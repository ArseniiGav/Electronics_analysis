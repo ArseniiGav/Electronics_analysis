{
 "cells": [
  {
   "cell_type": "code",
   "execution_count": 1,
   "id": "4ad96eef-de51-4f40-a1b1-e4f1a8e66c9b",
   "metadata": {},
   "outputs": [],
   "source": [
    "import numpy as np\n",
    "from vis_functions import *\n",
    "from sup_functions import *"
   ]
  },
  {
   "cell_type": "code",
   "execution_count": 2,
   "id": "cbb6003b-1724-4cb6-b329-3731cfe4d6e9",
   "metadata": {},
   "outputs": [
    {
     "name": "stdout",
     "output_type": "stream",
     "text": [
      "Bi214 totalPE mean: 166.0337\n",
      "Po214 totalPE mean: 1248.1206\n"
     ]
    }
   ],
   "source": [
    "sources = [\"Bi214\", \"Po214\"]\n",
    "source_counts, source_bins, totalPEs, nHits_array, edepScint_MeV = collect_data(sources, ideal=False)\n",
    "pmt_x, pmt_y, pmt_z = get_pmt_coors()"
   ]
  },
  {
   "cell_type": "code",
   "execution_count": 3,
   "id": "e3d955a7-959c-46f9-bfb8-7584b405f6cf",
   "metadata": {},
   "outputs": [
    {
     "name": "stdout",
     "output_type": "stream",
     "text": [
      "Bi214 totalPE mean: 166.0337\n",
      "Po214 totalPE mean: 1248.1206\n"
     ]
    },
    {
     "data": {
      "application/vnd.plotly.v1+json": {
       "config": {
        "plotlyServerURL": "https://plot.ly"
       },
       "data": [
        {
         "marker": {
          "color": "darkred",
          "line": {
           "width": 0
          }
         },
         "name": "Bi214",
         "opacity": 0.7,
         "type": "bar",
         "x": [
          4.95,
          14.850000000000001,
          24.75,
          34.650000000000006,
          44.55,
          54.45,
          64.35,
          74.25,
          84.15,
          94.05000000000001,
          103.95,
          113.85000000000001,
          123.75000000000001,
          133.65,
          143.55,
          153.45,
          163.35000000000002,
          173.25,
          183.15,
          193.05,
          202.95,
          212.85000000000002,
          222.75,
          232.65000000000003,
          242.55,
          252.45000000000002,
          262.35,
          272.25,
          282.15,
          292.05,
          301.95000000000005,
          311.85,
          321.75,
          331.65,
          341.55,
          351.45000000000005,
          361.35,
          371.25,
          381.15,
          391.05,
          400.95000000000005,
          410.85,
          420.75,
          430.65,
          440.55,
          450.45000000000005,
          460.35,
          470.25,
          480.15000000000003,
          490.05,
          499.95000000000005,
          509.85,
          519.75,
          529.6500000000001,
          539.55,
          549.45,
          559.35,
          569.25,
          579.1500000000001,
          589.05,
          598.95,
          608.85,
          618.75,
          628.6500000000001,
          638.55,
          648.45,
          658.35,
          668.25,
          678.1500000000001,
          688.05,
          697.95,
          707.85,
          717.75,
          727.6500000000001,
          737.55,
          747.45,
          757.35,
          767.25,
          777.1500000000001,
          787.05,
          796.95,
          806.85,
          816.75,
          826.6500000000001,
          836.55,
          846.45,
          856.35,
          866.25,
          876.1500000000001,
          886.05,
          895.95,
          905.85,
          915.75,
          925.6500000000001,
          935.55,
          945.45,
          955.3500000000001,
          965.25,
          975.1500000000001,
          985.05
         ],
         "y": [
          287,
          335,
          387,
          396,
          383,
          397,
          408,
          370,
          393,
          339,
          393,
          356,
          337,
          313,
          314,
          255,
          272,
          250,
          237,
          207,
          220,
          199,
          209,
          199,
          172,
          152,
          169,
          168,
          146,
          115,
          133,
          144,
          118,
          115,
          118,
          87,
          102,
          81,
          74,
          50,
          53,
          65,
          63,
          51,
          45,
          41,
          31,
          28,
          28,
          21,
          20,
          17,
          23,
          19,
          18,
          15,
          5,
          11,
          9,
          7,
          7,
          2,
          3,
          4,
          4,
          1,
          3,
          0,
          2,
          1,
          1,
          1,
          0,
          0,
          0,
          0,
          0,
          0,
          0,
          0,
          0,
          0,
          0,
          0,
          0,
          0,
          0,
          0,
          0,
          0,
          0,
          0,
          0,
          0,
          0,
          0,
          0,
          0,
          0,
          1
         ]
        },
        {
         "line": {
          "shape": "hvh"
         },
         "marker": {
          "color": "darkred",
          "line": {
           "width": 0
          }
         },
         "name": "Bi214",
         "opacity": 0.7,
         "type": "scatter",
         "visible": false,
         "x": [
          4.95,
          14.850000000000001,
          24.75,
          34.650000000000006,
          44.55,
          54.45,
          64.35,
          74.25,
          84.15,
          94.05000000000001,
          103.95,
          113.85000000000001,
          123.75000000000001,
          133.65,
          143.55,
          153.45,
          163.35000000000002,
          173.25,
          183.15,
          193.05,
          202.95,
          212.85000000000002,
          222.75,
          232.65000000000003,
          242.55,
          252.45000000000002,
          262.35,
          272.25,
          282.15,
          292.05,
          301.95000000000005,
          311.85,
          321.75,
          331.65,
          341.55,
          351.45000000000005,
          361.35,
          371.25,
          381.15,
          391.05,
          400.95000000000005,
          410.85,
          420.75,
          430.65,
          440.55,
          450.45000000000005,
          460.35,
          470.25,
          480.15000000000003,
          490.05,
          499.95000000000005,
          509.85,
          519.75,
          529.6500000000001,
          539.55,
          549.45,
          559.35,
          569.25,
          579.1500000000001,
          589.05,
          598.95,
          608.85,
          618.75,
          628.6500000000001,
          638.55,
          648.45,
          658.35,
          668.25,
          678.1500000000001,
          688.05,
          697.95,
          707.85,
          717.75,
          727.6500000000001,
          737.55,
          747.45,
          757.35,
          767.25,
          777.1500000000001,
          787.05,
          796.95,
          806.85,
          816.75,
          826.6500000000001,
          836.55,
          846.45,
          856.35,
          866.25,
          876.1500000000001,
          886.05,
          895.95,
          905.85,
          915.75,
          925.6500000000001,
          935.55,
          945.45,
          955.3500000000001,
          965.25,
          975.1500000000001,
          985.05
         ],
         "y": [
          287,
          335,
          387,
          396,
          383,
          397,
          408,
          370,
          393,
          339,
          393,
          356,
          337,
          313,
          314,
          255,
          272,
          250,
          237,
          207,
          220,
          199,
          209,
          199,
          172,
          152,
          169,
          168,
          146,
          115,
          133,
          144,
          118,
          115,
          118,
          87,
          102,
          81,
          74,
          50,
          53,
          65,
          63,
          51,
          45,
          41,
          31,
          28,
          28,
          21,
          20,
          17,
          23,
          19,
          18,
          15,
          5,
          11,
          9,
          7,
          7,
          2,
          3,
          4,
          4,
          1,
          3,
          0,
          2,
          1,
          1,
          1,
          0,
          0,
          0,
          0,
          0,
          0,
          0,
          0,
          0,
          0,
          0,
          0,
          0,
          0,
          0,
          0,
          0,
          0,
          0,
          0,
          0,
          0,
          0,
          0,
          0,
          0,
          0,
          1
         ]
        },
        {
         "marker": {
          "color": "royalblue",
          "line": {
           "width": 0
          }
         },
         "name": "Po214",
         "opacity": 0.7,
         "type": "bar",
         "x": [
          178.17000000000002,
          196.51,
          214.85,
          233.19,
          251.53,
          269.87,
          288.21,
          306.55,
          324.89,
          343.23,
          361.57,
          379.90999999999997,
          398.25,
          416.59,
          434.93,
          453.27,
          471.61,
          489.95,
          508.29,
          526.63,
          544.97,
          563.31,
          581.65,
          599.99,
          618.3299999999999,
          636.67,
          655.01,
          673.35,
          691.69,
          710.03,
          728.37,
          746.71,
          765.05,
          783.39,
          801.73,
          820.0699999999999,
          838.4100000000001,
          856.75,
          875.0899999999999,
          893.4300000000001,
          911.77,
          930.1099999999999,
          948.45,
          966.79,
          985.13,
          1003.47,
          1021.81,
          1040.15,
          1058.4899999999998,
          1076.83,
          1095.17,
          1113.51,
          1131.85,
          1150.19,
          1168.5300000000002,
          1186.87,
          1205.21,
          1223.55,
          1241.8899999999999,
          1260.23,
          1278.5700000000002,
          1296.9099999999999,
          1315.25,
          1333.5900000000001,
          1351.9299999999998,
          1370.27,
          1388.6100000000001,
          1406.9499999999998,
          1425.29,
          1443.63,
          1461.97,
          1480.31,
          1498.65,
          1516.99,
          1535.33,
          1553.67,
          1572.01,
          1590.35,
          1608.69,
          1627.03,
          1645.37,
          1663.71,
          1682.05,
          1700.3899999999999,
          1718.73,
          1737.0700000000002,
          1755.4099999999999,
          1773.75,
          1792.0900000000001,
          1810.4299999999998,
          1828.77,
          1847.1100000000001,
          1865.4499999999998,
          1883.79,
          1902.13,
          1920.4699999999998,
          1938.81,
          1957.15,
          1975.49,
          1993.83
         ],
         "y": [
          2,
          0,
          1,
          0,
          0,
          0,
          0,
          0,
          0,
          2,
          5,
          13,
          38,
          34,
          43,
          45,
          49,
          47,
          51,
          38,
          47,
          41,
          49,
          50,
          53,
          52,
          71,
          63,
          70,
          76,
          90,
          97,
          104,
          108,
          109,
          109,
          112,
          95,
          128,
          152,
          131,
          142,
          142,
          178,
          165,
          196,
          183,
          259,
          234,
          242,
          233,
          206,
          213,
          187,
          171,
          149,
          128,
          142,
          123,
          105,
          116,
          106,
          92,
          71,
          88,
          103,
          72,
          88,
          91,
          90,
          75,
          82,
          90,
          98,
          104,
          121,
          120,
          111,
          132,
          127,
          149,
          155,
          151,
          172,
          177,
          172,
          169,
          189,
          210,
          183,
          183,
          165,
          116,
          93,
          70,
          42,
          29,
          15,
          8,
          2
         ]
        },
        {
         "line": {
          "shape": "hvh"
         },
         "marker": {
          "color": "royalblue",
          "line": {
           "width": 0
          }
         },
         "name": "Po214",
         "opacity": 0.7,
         "type": "scatter",
         "visible": false,
         "x": [
          178.17000000000002,
          196.51,
          214.85,
          233.19,
          251.53,
          269.87,
          288.21,
          306.55,
          324.89,
          343.23,
          361.57,
          379.90999999999997,
          398.25,
          416.59,
          434.93,
          453.27,
          471.61,
          489.95,
          508.29,
          526.63,
          544.97,
          563.31,
          581.65,
          599.99,
          618.3299999999999,
          636.67,
          655.01,
          673.35,
          691.69,
          710.03,
          728.37,
          746.71,
          765.05,
          783.39,
          801.73,
          820.0699999999999,
          838.4100000000001,
          856.75,
          875.0899999999999,
          893.4300000000001,
          911.77,
          930.1099999999999,
          948.45,
          966.79,
          985.13,
          1003.47,
          1021.81,
          1040.15,
          1058.4899999999998,
          1076.83,
          1095.17,
          1113.51,
          1131.85,
          1150.19,
          1168.5300000000002,
          1186.87,
          1205.21,
          1223.55,
          1241.8899999999999,
          1260.23,
          1278.5700000000002,
          1296.9099999999999,
          1315.25,
          1333.5900000000001,
          1351.9299999999998,
          1370.27,
          1388.6100000000001,
          1406.9499999999998,
          1425.29,
          1443.63,
          1461.97,
          1480.31,
          1498.65,
          1516.99,
          1535.33,
          1553.67,
          1572.01,
          1590.35,
          1608.69,
          1627.03,
          1645.37,
          1663.71,
          1682.05,
          1700.3899999999999,
          1718.73,
          1737.0700000000002,
          1755.4099999999999,
          1773.75,
          1792.0900000000001,
          1810.4299999999998,
          1828.77,
          1847.1100000000001,
          1865.4499999999998,
          1883.79,
          1902.13,
          1920.4699999999998,
          1938.81,
          1957.15,
          1975.49,
          1993.83
         ],
         "y": [
          2,
          0,
          1,
          0,
          0,
          0,
          0,
          0,
          0,
          2,
          5,
          13,
          38,
          34,
          43,
          45,
          49,
          47,
          51,
          38,
          47,
          41,
          49,
          50,
          53,
          52,
          71,
          63,
          70,
          76,
          90,
          97,
          104,
          108,
          109,
          109,
          112,
          95,
          128,
          152,
          131,
          142,
          142,
          178,
          165,
          196,
          183,
          259,
          234,
          242,
          233,
          206,
          213,
          187,
          171,
          149,
          128,
          142,
          123,
          105,
          116,
          106,
          92,
          71,
          88,
          103,
          72,
          88,
          91,
          90,
          75,
          82,
          90,
          98,
          104,
          121,
          120,
          111,
          132,
          127,
          149,
          155,
          151,
          172,
          177,
          172,
          169,
          189,
          210,
          183,
          183,
          165,
          116,
          93,
          70,
          42,
          29,
          15,
          8,
          2
         ]
        }
       ],
       "layout": {
        "bargap": 0,
        "barmode": "overlay",
        "height": 500,
        "legend": {
         "orientation": "h",
         "x": 1,
         "xanchor": "right",
         "y": 1.02,
         "yanchor": "bottom"
        },
        "template": {
         "data": {
          "bar": [
           {
            "error_x": {
             "color": "#2a3f5f"
            },
            "error_y": {
             "color": "#2a3f5f"
            },
            "marker": {
             "line": {
              "color": "white",
              "width": 0.5
             },
             "pattern": {
              "fillmode": "overlay",
              "size": 10,
              "solidity": 0.2
             }
            },
            "type": "bar"
           }
          ],
          "barpolar": [
           {
            "marker": {
             "line": {
              "color": "white",
              "width": 0.5
             },
             "pattern": {
              "fillmode": "overlay",
              "size": 10,
              "solidity": 0.2
             }
            },
            "type": "barpolar"
           }
          ],
          "carpet": [
           {
            "aaxis": {
             "endlinecolor": "#2a3f5f",
             "gridcolor": "#C8D4E3",
             "linecolor": "#C8D4E3",
             "minorgridcolor": "#C8D4E3",
             "startlinecolor": "#2a3f5f"
            },
            "baxis": {
             "endlinecolor": "#2a3f5f",
             "gridcolor": "#C8D4E3",
             "linecolor": "#C8D4E3",
             "minorgridcolor": "#C8D4E3",
             "startlinecolor": "#2a3f5f"
            },
            "type": "carpet"
           }
          ],
          "choropleth": [
           {
            "colorbar": {
             "outlinewidth": 0,
             "ticks": ""
            },
            "type": "choropleth"
           }
          ],
          "contour": [
           {
            "colorbar": {
             "outlinewidth": 0,
             "ticks": ""
            },
            "colorscale": [
             [
              0,
              "#0d0887"
             ],
             [
              0.1111111111111111,
              "#46039f"
             ],
             [
              0.2222222222222222,
              "#7201a8"
             ],
             [
              0.3333333333333333,
              "#9c179e"
             ],
             [
              0.4444444444444444,
              "#bd3786"
             ],
             [
              0.5555555555555556,
              "#d8576b"
             ],
             [
              0.6666666666666666,
              "#ed7953"
             ],
             [
              0.7777777777777778,
              "#fb9f3a"
             ],
             [
              0.8888888888888888,
              "#fdca26"
             ],
             [
              1,
              "#f0f921"
             ]
            ],
            "type": "contour"
           }
          ],
          "contourcarpet": [
           {
            "colorbar": {
             "outlinewidth": 0,
             "ticks": ""
            },
            "type": "contourcarpet"
           }
          ],
          "heatmap": [
           {
            "colorbar": {
             "outlinewidth": 0,
             "ticks": ""
            },
            "colorscale": [
             [
              0,
              "#0d0887"
             ],
             [
              0.1111111111111111,
              "#46039f"
             ],
             [
              0.2222222222222222,
              "#7201a8"
             ],
             [
              0.3333333333333333,
              "#9c179e"
             ],
             [
              0.4444444444444444,
              "#bd3786"
             ],
             [
              0.5555555555555556,
              "#d8576b"
             ],
             [
              0.6666666666666666,
              "#ed7953"
             ],
             [
              0.7777777777777778,
              "#fb9f3a"
             ],
             [
              0.8888888888888888,
              "#fdca26"
             ],
             [
              1,
              "#f0f921"
             ]
            ],
            "type": "heatmap"
           }
          ],
          "heatmapgl": [
           {
            "colorbar": {
             "outlinewidth": 0,
             "ticks": ""
            },
            "colorscale": [
             [
              0,
              "#0d0887"
             ],
             [
              0.1111111111111111,
              "#46039f"
             ],
             [
              0.2222222222222222,
              "#7201a8"
             ],
             [
              0.3333333333333333,
              "#9c179e"
             ],
             [
              0.4444444444444444,
              "#bd3786"
             ],
             [
              0.5555555555555556,
              "#d8576b"
             ],
             [
              0.6666666666666666,
              "#ed7953"
             ],
             [
              0.7777777777777778,
              "#fb9f3a"
             ],
             [
              0.8888888888888888,
              "#fdca26"
             ],
             [
              1,
              "#f0f921"
             ]
            ],
            "type": "heatmapgl"
           }
          ],
          "histogram": [
           {
            "marker": {
             "pattern": {
              "fillmode": "overlay",
              "size": 10,
              "solidity": 0.2
             }
            },
            "type": "histogram"
           }
          ],
          "histogram2d": [
           {
            "colorbar": {
             "outlinewidth": 0,
             "ticks": ""
            },
            "colorscale": [
             [
              0,
              "#0d0887"
             ],
             [
              0.1111111111111111,
              "#46039f"
             ],
             [
              0.2222222222222222,
              "#7201a8"
             ],
             [
              0.3333333333333333,
              "#9c179e"
             ],
             [
              0.4444444444444444,
              "#bd3786"
             ],
             [
              0.5555555555555556,
              "#d8576b"
             ],
             [
              0.6666666666666666,
              "#ed7953"
             ],
             [
              0.7777777777777778,
              "#fb9f3a"
             ],
             [
              0.8888888888888888,
              "#fdca26"
             ],
             [
              1,
              "#f0f921"
             ]
            ],
            "type": "histogram2d"
           }
          ],
          "histogram2dcontour": [
           {
            "colorbar": {
             "outlinewidth": 0,
             "ticks": ""
            },
            "colorscale": [
             [
              0,
              "#0d0887"
             ],
             [
              0.1111111111111111,
              "#46039f"
             ],
             [
              0.2222222222222222,
              "#7201a8"
             ],
             [
              0.3333333333333333,
              "#9c179e"
             ],
             [
              0.4444444444444444,
              "#bd3786"
             ],
             [
              0.5555555555555556,
              "#d8576b"
             ],
             [
              0.6666666666666666,
              "#ed7953"
             ],
             [
              0.7777777777777778,
              "#fb9f3a"
             ],
             [
              0.8888888888888888,
              "#fdca26"
             ],
             [
              1,
              "#f0f921"
             ]
            ],
            "type": "histogram2dcontour"
           }
          ],
          "mesh3d": [
           {
            "colorbar": {
             "outlinewidth": 0,
             "ticks": ""
            },
            "type": "mesh3d"
           }
          ],
          "parcoords": [
           {
            "line": {
             "colorbar": {
              "outlinewidth": 0,
              "ticks": ""
             }
            },
            "type": "parcoords"
           }
          ],
          "pie": [
           {
            "automargin": true,
            "type": "pie"
           }
          ],
          "scatter": [
           {
            "fillpattern": {
             "fillmode": "overlay",
             "size": 10,
             "solidity": 0.2
            },
            "type": "scatter"
           }
          ],
          "scatter3d": [
           {
            "line": {
             "colorbar": {
              "outlinewidth": 0,
              "ticks": ""
             }
            },
            "marker": {
             "colorbar": {
              "outlinewidth": 0,
              "ticks": ""
             }
            },
            "type": "scatter3d"
           }
          ],
          "scattercarpet": [
           {
            "marker": {
             "colorbar": {
              "outlinewidth": 0,
              "ticks": ""
             }
            },
            "type": "scattercarpet"
           }
          ],
          "scattergeo": [
           {
            "marker": {
             "colorbar": {
              "outlinewidth": 0,
              "ticks": ""
             }
            },
            "type": "scattergeo"
           }
          ],
          "scattergl": [
           {
            "marker": {
             "colorbar": {
              "outlinewidth": 0,
              "ticks": ""
             }
            },
            "type": "scattergl"
           }
          ],
          "scattermapbox": [
           {
            "marker": {
             "colorbar": {
              "outlinewidth": 0,
              "ticks": ""
             }
            },
            "type": "scattermapbox"
           }
          ],
          "scatterpolar": [
           {
            "marker": {
             "colorbar": {
              "outlinewidth": 0,
              "ticks": ""
             }
            },
            "type": "scatterpolar"
           }
          ],
          "scatterpolargl": [
           {
            "marker": {
             "colorbar": {
              "outlinewidth": 0,
              "ticks": ""
             }
            },
            "type": "scatterpolargl"
           }
          ],
          "scatterternary": [
           {
            "marker": {
             "colorbar": {
              "outlinewidth": 0,
              "ticks": ""
             }
            },
            "type": "scatterternary"
           }
          ],
          "surface": [
           {
            "colorbar": {
             "outlinewidth": 0,
             "ticks": ""
            },
            "colorscale": [
             [
              0,
              "#0d0887"
             ],
             [
              0.1111111111111111,
              "#46039f"
             ],
             [
              0.2222222222222222,
              "#7201a8"
             ],
             [
              0.3333333333333333,
              "#9c179e"
             ],
             [
              0.4444444444444444,
              "#bd3786"
             ],
             [
              0.5555555555555556,
              "#d8576b"
             ],
             [
              0.6666666666666666,
              "#ed7953"
             ],
             [
              0.7777777777777778,
              "#fb9f3a"
             ],
             [
              0.8888888888888888,
              "#fdca26"
             ],
             [
              1,
              "#f0f921"
             ]
            ],
            "type": "surface"
           }
          ],
          "table": [
           {
            "cells": {
             "fill": {
              "color": "#EBF0F8"
             },
             "line": {
              "color": "white"
             }
            },
            "header": {
             "fill": {
              "color": "#C8D4E3"
             },
             "line": {
              "color": "white"
             }
            },
            "type": "table"
           }
          ]
         },
         "layout": {
          "annotationdefaults": {
           "arrowcolor": "#2a3f5f",
           "arrowhead": 0,
           "arrowwidth": 1
          },
          "autotypenumbers": "strict",
          "coloraxis": {
           "colorbar": {
            "outlinewidth": 0,
            "ticks": ""
           }
          },
          "colorscale": {
           "diverging": [
            [
             0,
             "#8e0152"
            ],
            [
             0.1,
             "#c51b7d"
            ],
            [
             0.2,
             "#de77ae"
            ],
            [
             0.3,
             "#f1b6da"
            ],
            [
             0.4,
             "#fde0ef"
            ],
            [
             0.5,
             "#f7f7f7"
            ],
            [
             0.6,
             "#e6f5d0"
            ],
            [
             0.7,
             "#b8e186"
            ],
            [
             0.8,
             "#7fbc41"
            ],
            [
             0.9,
             "#4d9221"
            ],
            [
             1,
             "#276419"
            ]
           ],
           "sequential": [
            [
             0,
             "#0d0887"
            ],
            [
             0.1111111111111111,
             "#46039f"
            ],
            [
             0.2222222222222222,
             "#7201a8"
            ],
            [
             0.3333333333333333,
             "#9c179e"
            ],
            [
             0.4444444444444444,
             "#bd3786"
            ],
            [
             0.5555555555555556,
             "#d8576b"
            ],
            [
             0.6666666666666666,
             "#ed7953"
            ],
            [
             0.7777777777777778,
             "#fb9f3a"
            ],
            [
             0.8888888888888888,
             "#fdca26"
            ],
            [
             1,
             "#f0f921"
            ]
           ],
           "sequentialminus": [
            [
             0,
             "#0d0887"
            ],
            [
             0.1111111111111111,
             "#46039f"
            ],
            [
             0.2222222222222222,
             "#7201a8"
            ],
            [
             0.3333333333333333,
             "#9c179e"
            ],
            [
             0.4444444444444444,
             "#bd3786"
            ],
            [
             0.5555555555555556,
             "#d8576b"
            ],
            [
             0.6666666666666666,
             "#ed7953"
            ],
            [
             0.7777777777777778,
             "#fb9f3a"
            ],
            [
             0.8888888888888888,
             "#fdca26"
            ],
            [
             1,
             "#f0f921"
            ]
           ]
          },
          "colorway": [
           "#636efa",
           "#EF553B",
           "#00cc96",
           "#ab63fa",
           "#FFA15A",
           "#19d3f3",
           "#FF6692",
           "#B6E880",
           "#FF97FF",
           "#FECB52"
          ],
          "font": {
           "color": "#2a3f5f"
          },
          "geo": {
           "bgcolor": "white",
           "lakecolor": "white",
           "landcolor": "white",
           "showlakes": true,
           "showland": true,
           "subunitcolor": "#C8D4E3"
          },
          "hoverlabel": {
           "align": "left"
          },
          "hovermode": "closest",
          "mapbox": {
           "style": "light"
          },
          "paper_bgcolor": "white",
          "plot_bgcolor": "white",
          "polar": {
           "angularaxis": {
            "gridcolor": "#EBF0F8",
            "linecolor": "#EBF0F8",
            "ticks": ""
           },
           "bgcolor": "white",
           "radialaxis": {
            "gridcolor": "#EBF0F8",
            "linecolor": "#EBF0F8",
            "ticks": ""
           }
          },
          "scene": {
           "xaxis": {
            "backgroundcolor": "white",
            "gridcolor": "#DFE8F3",
            "gridwidth": 2,
            "linecolor": "#EBF0F8",
            "showbackground": true,
            "ticks": "",
            "zerolinecolor": "#EBF0F8"
           },
           "yaxis": {
            "backgroundcolor": "white",
            "gridcolor": "#DFE8F3",
            "gridwidth": 2,
            "linecolor": "#EBF0F8",
            "showbackground": true,
            "ticks": "",
            "zerolinecolor": "#EBF0F8"
           },
           "zaxis": {
            "backgroundcolor": "white",
            "gridcolor": "#DFE8F3",
            "gridwidth": 2,
            "linecolor": "#EBF0F8",
            "showbackground": true,
            "ticks": "",
            "zerolinecolor": "#EBF0F8"
           }
          },
          "shapedefaults": {
           "line": {
            "color": "#2a3f5f"
           }
          },
          "ternary": {
           "aaxis": {
            "gridcolor": "#DFE8F3",
            "linecolor": "#A2B1C6",
            "ticks": ""
           },
           "baxis": {
            "gridcolor": "#DFE8F3",
            "linecolor": "#A2B1C6",
            "ticks": ""
           },
           "bgcolor": "white",
           "caxis": {
            "gridcolor": "#DFE8F3",
            "linecolor": "#A2B1C6",
            "ticks": ""
           }
          },
          "title": {
           "x": 0.05
          },
          "xaxis": {
           "automargin": true,
           "gridcolor": "#EBF0F8",
           "linecolor": "#EBF0F8",
           "ticks": "",
           "title": {
            "standoff": 15
           },
           "zerolinecolor": "#EBF0F8",
           "zerolinewidth": 2
          },
          "yaxis": {
           "automargin": true,
           "gridcolor": "#EBF0F8",
           "linecolor": "#EBF0F8",
           "ticks": "",
           "title": {
            "standoff": 15
           },
           "zerolinecolor": "#EBF0F8",
           "zerolinewidth": 2
          }
         }
        },
        "title": {
         "text": "XP2020 PMTs. Bi/Po"
        },
        "updatemenus": [
         {
          "buttons": [
           {
            "args": [
             {
              "yaxis.type": "linear"
             }
            ],
            "label": "Linear scale",
            "method": "relayout"
           },
           {
            "args": [
             {
              "yaxis.type": "log"
             }
            ],
            "label": "Log scale",
            "method": "relayout"
           }
          ],
          "direction": "left",
          "showactive": true,
          "type": "buttons",
          "x": 0.25,
          "xanchor": "left",
          "y": 1.22,
          "yanchor": "top"
         },
         {
          "buttons": [
           {
            "args": [
             {
              "visible": [
               true,
               false
              ]
             }
            ],
            "label": "Bar",
            "method": "update"
           },
           {
            "args": [
             {
              "visible": [
               false,
               true
              ]
             }
            ],
            "label": "Step",
            "method": "update"
           }
          ],
          "direction": "left",
          "showactive": true,
          "type": "buttons",
          "x": 0.8,
          "xanchor": "left",
          "y": 1.22,
          "yanchor": "top"
         }
        ],
        "width": 950,
        "xaxis": {
         "autorange": true,
         "gridcolor": "grey",
         "gridwidth": 0.25,
         "linecolor": "black",
         "mirror": true,
         "range": [
          6.838973831690964e-14,
          2002.9999999999998
         ],
         "showgrid": true,
         "showline": true,
         "ticks": "outside",
         "title": {
          "text": "totalPE"
         },
         "type": "linear"
        },
        "yaxis": {
         "autorange": true,
         "gridcolor": "grey",
         "gridwidth": 0.25,
         "linecolor": "black",
         "mirror": true,
         "range": [
          0,
          429.4736842105263
         ],
         "showgrid": true,
         "showline": true,
         "ticks": "outside",
         "type": "linear",
         "zeroline": true,
         "zerolinecolor": "black",
         "zerolinewidth": 0.25
        }
       }
      },
      "image/png": "[encoded data removed]",
      "text/html": [
       "<div>                            <div id=\"dbee828c-4587-428e-abe8-03d7b098521a\" class=\"plotly-graph-div\" style=\"height:500px; width:950px;\"></div>            <script type=\"text/javascript\">                require([\"plotly\"], function(Plotly) {                    window.PLOTLYENV=window.PLOTLYENV || {};                                    if (document.getElementById(\"dbee828c-4587-428e-abe8-03d7b098521a\")) {                    Plotly.newPlot(                        \"dbee828c-4587-428e-abe8-03d7b098521a\",                        [{\"marker\":{\"color\":\"darkred\",\"line\":{\"width\":0.0}},\"name\":\"Bi214\",\"opacity\":0.7,\"x\":[4.95,14.850000000000001,24.75,34.650000000000006,44.55,54.45,64.35,74.25,84.15,94.05000000000001,103.95,113.85000000000001,123.75000000000001,133.65,143.55,153.45,163.35000000000002,173.25,183.15,193.05,202.95,212.85000000000002,222.75,232.65000000000003,242.55,252.45000000000002,262.35,272.25,282.15,292.05,301.95000000000005,311.85,321.75,331.65,341.55,351.45000000000005,361.35,371.25,381.15,391.05,400.95000000000005,410.85,420.75,430.65,440.55,450.45000000000005,460.35,470.25,480.15000000000003,490.05,499.95000000000005,509.85,519.75,529.6500000000001,539.55,549.45,559.35,569.25,579.1500000000001,589.05,598.95,608.85,618.75,628.6500000000001,638.55,648.45,658.35,668.25,678.1500000000001,688.05,697.95,707.85,717.75,727.6500000000001,737.55,747.45,757.35,767.25,777.1500000000001,787.05,796.95,806.85,816.75,826.6500000000001,836.55,846.45,856.35,866.25,876.1500000000001,886.05,895.95,905.85,915.75,925.6500000000001,935.55,945.45,955.3500000000001,965.25,975.1500000000001,985.05],\"y\":[287,335,387,396,383,397,408,370,393,339,393,356,337,313,314,255,272,250,237,207,220,199,209,199,172,152,169,168,146,115,133,144,118,115,118,87,102,81,74,50,53,65,63,51,45,41,31,28,28,21,20,17,23,19,18,15,5,11,9,7,7,2,3,4,4,1,3,0,2,1,1,1,0,0,0,0,0,0,0,0,0,0,0,0,0,0,0,0,0,0,0,0,0,0,0,0,0,0,0,1],\"type\":\"bar\"},{\"line\":{\"shape\":\"hvh\"},\"marker\":{\"color\":\"darkred\",\"line\":{\"width\":0.0}},\"name\":\"Bi214\",\"opacity\":0.7,\"visible\":false,\"x\":[4.95,14.850000000000001,24.75,34.650000000000006,44.55,54.45,64.35,74.25,84.15,94.05000000000001,103.95,113.85000000000001,123.75000000000001,133.65,143.55,153.45,163.35000000000002,173.25,183.15,193.05,202.95,212.85000000000002,222.75,232.65000000000003,242.55,252.45000000000002,262.35,272.25,282.15,292.05,301.95000000000005,311.85,321.75,331.65,341.55,351.45000000000005,361.35,371.25,381.15,391.05,400.95000000000005,410.85,420.75,430.65,440.55,450.45000000000005,460.35,470.25,480.15000000000003,490.05,499.95000000000005,509.85,519.75,529.6500000000001,539.55,549.45,559.35,569.25,579.1500000000001,589.05,598.95,608.85,618.75,628.6500000000001,638.55,648.45,658.35,668.25,678.1500000000001,688.05,697.95,707.85,717.75,727.6500000000001,737.55,747.45,757.35,767.25,777.1500000000001,787.05,796.95,806.85,816.75,826.6500000000001,836.55,846.45,856.35,866.25,876.1500000000001,886.05,895.95,905.85,915.75,925.6500000000001,935.55,945.45,955.3500000000001,965.25,975.1500000000001,985.05],\"y\":[287,335,387,396,383,397,408,370,393,339,393,356,337,313,314,255,272,250,237,207,220,199,209,199,172,152,169,168,146,115,133,144,118,115,118,87,102,81,74,50,53,65,63,51,45,41,31,28,28,21,20,17,23,19,18,15,5,11,9,7,7,2,3,4,4,1,3,0,2,1,1,1,0,0,0,0,0,0,0,0,0,0,0,0,0,0,0,0,0,0,0,0,0,0,0,0,0,0,0,1],\"type\":\"scatter\"},{\"marker\":{\"color\":\"royalblue\",\"line\":{\"width\":0.0}},\"name\":\"Po214\",\"opacity\":0.7,\"x\":[178.17000000000002,196.51,214.85,233.19,251.53,269.87,288.21,306.55,324.89,343.23,361.57,379.90999999999997,398.25,416.59,434.93,453.27,471.61,489.95,508.29,526.63,544.97,563.31,581.65,599.99,618.3299999999999,636.67,655.01,673.35,691.69,710.03,728.37,746.71,765.05,783.39,801.73,820.0699999999999,838.4100000000001,856.75,875.0899999999999,893.4300000000001,911.77,930.1099999999999,948.45,966.79,985.13,1003.47,1021.81,1040.15,1058.4899999999998,1076.83,1095.17,1113.51,1131.85,1150.19,1168.5300000000002,1186.87,1205.21,1223.55,1241.8899999999999,1260.23,1278.5700000000002,1296.9099999999999,1315.25,1333.5900000000001,1351.9299999999998,1370.27,1388.6100000000001,1406.9499999999998,1425.29,1443.63,1461.97,1480.31,1498.65,1516.99,1535.33,1553.67,1572.01,1590.35,1608.69,1627.03,1645.37,1663.71,1682.05,1700.3899999999999,1718.73,1737.0700000000002,1755.4099999999999,1773.75,1792.0900000000001,1810.4299999999998,1828.77,1847.1100000000001,1865.4499999999998,1883.79,1902.13,1920.4699999999998,1938.81,1957.15,1975.49,1993.83],\"y\":[2,0,1,0,0,0,0,0,0,2,5,13,38,34,43,45,49,47,51,38,47,41,49,50,53,52,71,63,70,76,90,97,104,108,109,109,112,95,128,152,131,142,142,178,165,196,183,259,234,242,233,206,213,187,171,149,128,142,123,105,116,106,92,71,88,103,72,88,91,90,75,82,90,98,104,121,120,111,132,127,149,155,151,172,177,172,169,189,210,183,183,165,116,93,70,42,29,15,8,2],\"type\":\"bar\"},{\"line\":{\"shape\":\"hvh\"},\"marker\":{\"color\":\"royalblue\",\"line\":{\"width\":0.0}},\"name\":\"Po214\",\"opacity\":0.7,\"visible\":false,\"x\":[178.17000000000002,196.51,214.85,233.19,251.53,269.87,288.21,306.55,324.89,343.23,361.57,379.90999999999997,398.25,416.59,434.93,453.27,471.61,489.95,508.29,526.63,544.97,563.31,581.65,599.99,618.3299999999999,636.67,655.01,673.35,691.69,710.03,728.37,746.71,765.05,783.39,801.73,820.0699999999999,838.4100000000001,856.75,875.0899999999999,893.4300000000001,911.77,930.1099999999999,948.45,966.79,985.13,1003.47,1021.81,1040.15,1058.4899999999998,1076.83,1095.17,1113.51,1131.85,1150.19,1168.5300000000002,1186.87,1205.21,1223.55,1241.8899999999999,1260.23,1278.5700000000002,1296.9099999999999,1315.25,1333.5900000000001,1351.9299999999998,1370.27,1388.6100000000001,1406.9499999999998,1425.29,1443.63,1461.97,1480.31,1498.65,1516.99,1535.33,1553.67,1572.01,1590.35,1608.69,1627.03,1645.37,1663.71,1682.05,1700.3899999999999,1718.73,1737.0700000000002,1755.4099999999999,1773.75,1792.0900000000001,1810.4299999999998,1828.77,1847.1100000000001,1865.4499999999998,1883.79,1902.13,1920.4699999999998,1938.81,1957.15,1975.49,1993.83],\"y\":[2,0,1,0,0,0,0,0,0,2,5,13,38,34,43,45,49,47,51,38,47,41,49,50,53,52,71,63,70,76,90,97,104,108,109,109,112,95,128,152,131,142,142,178,165,196,183,259,234,242,233,206,213,187,171,149,128,142,123,105,116,106,92,71,88,103,72,88,91,90,75,82,90,98,104,121,120,111,132,127,149,155,151,172,177,172,169,189,210,183,183,165,116,93,70,42,29,15,8,2],\"type\":\"scatter\"}],                        {\"template\":{\"data\":{\"histogram2dcontour\":[{\"type\":\"histogram2dcontour\",\"colorbar\":{\"outlinewidth\":0,\"ticks\":\"\"},\"colorscale\":[[0.0,\"#0d0887\"],[0.1111111111111111,\"#46039f\"],[0.2222222222222222,\"#7201a8\"],[0.3333333333333333,\"#9c179e\"],[0.4444444444444444,\"#bd3786\"],[0.5555555555555556,\"#d8576b\"],[0.6666666666666666,\"#ed7953\"],[0.7777777777777778,\"#fb9f3a\"],[0.8888888888888888,\"#fdca26\"],[1.0,\"#f0f921\"]]}],\"choropleth\":[{\"type\":\"choropleth\",\"colorbar\":{\"outlinewidth\":0,\"ticks\":\"\"}}],\"histogram2d\":[{\"type\":\"histogram2d\",\"colorbar\":{\"outlinewidth\":0,\"ticks\":\"\"},\"colorscale\":[[0.0,\"#0d0887\"],[0.1111111111111111,\"#46039f\"],[0.2222222222222222,\"#7201a8\"],[0.3333333333333333,\"#9c179e\"],[0.4444444444444444,\"#bd3786\"],[0.5555555555555556,\"#d8576b\"],[0.6666666666666666,\"#ed7953\"],[0.7777777777777778,\"#fb9f3a\"],[0.8888888888888888,\"#fdca26\"],[1.0,\"#f0f921\"]]}],\"heatmap\":[{\"type\":\"heatmap\",\"colorbar\":{\"outlinewidth\":0,\"ticks\":\"\"},\"colorscale\":[[0.0,\"#0d0887\"],[0.1111111111111111,\"#46039f\"],[0.2222222222222222,\"#7201a8\"],[0.3333333333333333,\"#9c179e\"],[0.4444444444444444,\"#bd3786\"],[0.5555555555555556,\"#d8576b\"],[0.6666666666666666,\"#ed7953\"],[0.7777777777777778,\"#fb9f3a\"],[0.8888888888888888,\"#fdca26\"],[1.0,\"#f0f921\"]]}],\"heatmapgl\":[{\"type\":\"heatmapgl\",\"colorbar\":{\"outlinewidth\":0,\"ticks\":\"\"},\"colorscale\":[[0.0,\"#0d0887\"],[0.1111111111111111,\"#46039f\"],[0.2222222222222222,\"#7201a8\"],[0.3333333333333333,\"#9c179e\"],[0.4444444444444444,\"#bd3786\"],[0.5555555555555556,\"#d8576b\"],[0.6666666666666666,\"#ed7953\"],[0.7777777777777778,\"#fb9f3a\"],[0.8888888888888888,\"#fdca26\"],[1.0,\"#f0f921\"]]}],\"contourcarpet\":[{\"type\":\"contourcarpet\",\"colorbar\":{\"outlinewidth\":0,\"ticks\":\"\"}}],\"contour\":[{\"type\":\"contour\",\"colorbar\":{\"outlinewidth\":0,\"ticks\":\"\"},\"colorscale\":[[0.0,\"#0d0887\"],[0.1111111111111111,\"#46039f\"],[0.2222222222222222,\"#7201a8\"],[0.3333333333333333,\"#9c179e\"],[0.4444444444444444,\"#bd3786\"],[0.5555555555555556,\"#d8576b\"],[0.6666666666666666,\"#ed7953\"],[0.7777777777777778,\"#fb9f3a\"],[0.8888888888888888,\"#fdca26\"],[1.0,\"#f0f921\"]]}],\"surface\":[{\"type\":\"surface\",\"colorbar\":{\"outlinewidth\":0,\"ticks\":\"\"},\"colorscale\":[[0.0,\"#0d0887\"],[0.1111111111111111,\"#46039f\"],[0.2222222222222222,\"#7201a8\"],[0.3333333333333333,\"#9c179e\"],[0.4444444444444444,\"#bd3786\"],[0.5555555555555556,\"#d8576b\"],[0.6666666666666666,\"#ed7953\"],[0.7777777777777778,\"#fb9f3a\"],[0.8888888888888888,\"#fdca26\"],[1.0,\"#f0f921\"]]}],\"mesh3d\":[{\"type\":\"mesh3d\",\"colorbar\":{\"outlinewidth\":0,\"ticks\":\"\"}}],\"scatter\":[{\"fillpattern\":{\"fillmode\":\"overlay\",\"size\":10,\"solidity\":0.2},\"type\":\"scatter\"}],\"parcoords\":[{\"type\":\"parcoords\",\"line\":{\"colorbar\":{\"outlinewidth\":0,\"ticks\":\"\"}}}],\"scatterpolargl\":[{\"type\":\"scatterpolargl\",\"marker\":{\"colorbar\":{\"outlinewidth\":0,\"ticks\":\"\"}}}],\"bar\":[{\"error_x\":{\"color\":\"#2a3f5f\"},\"error_y\":{\"color\":\"#2a3f5f\"},\"marker\":{\"line\":{\"color\":\"white\",\"width\":0.5},\"pattern\":{\"fillmode\":\"overlay\",\"size\":10,\"solidity\":0.2}},\"type\":\"bar\"}],\"scattergeo\":[{\"type\":\"scattergeo\",\"marker\":{\"colorbar\":{\"outlinewidth\":0,\"ticks\":\"\"}}}],\"scatterpolar\":[{\"type\":\"scatterpolar\",\"marker\":{\"colorbar\":{\"outlinewidth\":0,\"ticks\":\"\"}}}],\"histogram\":[{\"marker\":{\"pattern\":{\"fillmode\":\"overlay\",\"size\":10,\"solidity\":0.2}},\"type\":\"histogram\"}],\"scattergl\":[{\"type\":\"scattergl\",\"marker\":{\"colorbar\":{\"outlinewidth\":0,\"ticks\":\"\"}}}],\"scatter3d\":[{\"type\":\"scatter3d\",\"line\":{\"colorbar\":{\"outlinewidth\":0,\"ticks\":\"\"}},\"marker\":{\"colorbar\":{\"outlinewidth\":0,\"ticks\":\"\"}}}],\"scattermapbox\":[{\"type\":\"scattermapbox\",\"marker\":{\"colorbar\":{\"outlinewidth\":0,\"ticks\":\"\"}}}],\"scatterternary\":[{\"type\":\"scatterternary\",\"marker\":{\"colorbar\":{\"outlinewidth\":0,\"ticks\":\"\"}}}],\"scattercarpet\":[{\"type\":\"scattercarpet\",\"marker\":{\"colorbar\":{\"outlinewidth\":0,\"ticks\":\"\"}}}],\"carpet\":[{\"aaxis\":{\"endlinecolor\":\"#2a3f5f\",\"gridcolor\":\"#C8D4E3\",\"linecolor\":\"#C8D4E3\",\"minorgridcolor\":\"#C8D4E3\",\"startlinecolor\":\"#2a3f5f\"},\"baxis\":{\"endlinecolor\":\"#2a3f5f\",\"gridcolor\":\"#C8D4E3\",\"linecolor\":\"#C8D4E3\",\"minorgridcolor\":\"#C8D4E3\",\"startlinecolor\":\"#2a3f5f\"},\"type\":\"carpet\"}],\"table\":[{\"cells\":{\"fill\":{\"color\":\"#EBF0F8\"},\"line\":{\"color\":\"white\"}},\"header\":{\"fill\":{\"color\":\"#C8D4E3\"},\"line\":{\"color\":\"white\"}},\"type\":\"table\"}],\"barpolar\":[{\"marker\":{\"line\":{\"color\":\"white\",\"width\":0.5},\"pattern\":{\"fillmode\":\"overlay\",\"size\":10,\"solidity\":0.2}},\"type\":\"barpolar\"}],\"pie\":[{\"automargin\":true,\"type\":\"pie\"}]},\"layout\":{\"autotypenumbers\":\"strict\",\"colorway\":[\"#636efa\",\"#EF553B\",\"#00cc96\",\"#ab63fa\",\"#FFA15A\",\"#19d3f3\",\"#FF6692\",\"#B6E880\",\"#FF97FF\",\"#FECB52\"],\"font\":{\"color\":\"#2a3f5f\"},\"hovermode\":\"closest\",\"hoverlabel\":{\"align\":\"left\"},\"paper_bgcolor\":\"white\",\"plot_bgcolor\":\"white\",\"polar\":{\"bgcolor\":\"white\",\"angularaxis\":{\"gridcolor\":\"#EBF0F8\",\"linecolor\":\"#EBF0F8\",\"ticks\":\"\"},\"radialaxis\":{\"gridcolor\":\"#EBF0F8\",\"linecolor\":\"#EBF0F8\",\"ticks\":\"\"}},\"ternary\":{\"bgcolor\":\"white\",\"aaxis\":{\"gridcolor\":\"#DFE8F3\",\"linecolor\":\"#A2B1C6\",\"ticks\":\"\"},\"baxis\":{\"gridcolor\":\"#DFE8F3\",\"linecolor\":\"#A2B1C6\",\"ticks\":\"\"},\"caxis\":{\"gridcolor\":\"#DFE8F3\",\"linecolor\":\"#A2B1C6\",\"ticks\":\"\"}},\"coloraxis\":{\"colorbar\":{\"outlinewidth\":0,\"ticks\":\"\"}},\"colorscale\":{\"sequential\":[[0.0,\"#0d0887\"],[0.1111111111111111,\"#46039f\"],[0.2222222222222222,\"#7201a8\"],[0.3333333333333333,\"#9c179e\"],[0.4444444444444444,\"#bd3786\"],[0.5555555555555556,\"#d8576b\"],[0.6666666666666666,\"#ed7953\"],[0.7777777777777778,\"#fb9f3a\"],[0.8888888888888888,\"#fdca26\"],[1.0,\"#f0f921\"]],\"sequentialminus\":[[0.0,\"#0d0887\"],[0.1111111111111111,\"#46039f\"],[0.2222222222222222,\"#7201a8\"],[0.3333333333333333,\"#9c179e\"],[0.4444444444444444,\"#bd3786\"],[0.5555555555555556,\"#d8576b\"],[0.6666666666666666,\"#ed7953\"],[0.7777777777777778,\"#fb9f3a\"],[0.8888888888888888,\"#fdca26\"],[1.0,\"#f0f921\"]],\"diverging\":[[0,\"#8e0152\"],[0.1,\"#c51b7d\"],[0.2,\"#de77ae\"],[0.3,\"#f1b6da\"],[0.4,\"#fde0ef\"],[0.5,\"#f7f7f7\"],[0.6,\"#e6f5d0\"],[0.7,\"#b8e186\"],[0.8,\"#7fbc41\"],[0.9,\"#4d9221\"],[1,\"#276419\"]]},\"xaxis\":{\"gridcolor\":\"#EBF0F8\",\"linecolor\":\"#EBF0F8\",\"ticks\":\"\",\"title\":{\"standoff\":15},\"zerolinecolor\":\"#EBF0F8\",\"automargin\":true,\"zerolinewidth\":2},\"yaxis\":{\"gridcolor\":\"#EBF0F8\",\"linecolor\":\"#EBF0F8\",\"ticks\":\"\",\"title\":{\"standoff\":15},\"zerolinecolor\":\"#EBF0F8\",\"automargin\":true,\"zerolinewidth\":2},\"scene\":{\"xaxis\":{\"backgroundcolor\":\"white\",\"gridcolor\":\"#DFE8F3\",\"linecolor\":\"#EBF0F8\",\"showbackground\":true,\"ticks\":\"\",\"zerolinecolor\":\"#EBF0F8\",\"gridwidth\":2},\"yaxis\":{\"backgroundcolor\":\"white\",\"gridcolor\":\"#DFE8F3\",\"linecolor\":\"#EBF0F8\",\"showbackground\":true,\"ticks\":\"\",\"zerolinecolor\":\"#EBF0F8\",\"gridwidth\":2},\"zaxis\":{\"backgroundcolor\":\"white\",\"gridcolor\":\"#DFE8F3\",\"linecolor\":\"#EBF0F8\",\"showbackground\":true,\"ticks\":\"\",\"zerolinecolor\":\"#EBF0F8\",\"gridwidth\":2}},\"shapedefaults\":{\"line\":{\"color\":\"#2a3f5f\"}},\"annotationdefaults\":{\"arrowcolor\":\"#2a3f5f\",\"arrowhead\":0,\"arrowwidth\":1},\"geo\":{\"bgcolor\":\"white\",\"landcolor\":\"white\",\"subunitcolor\":\"#C8D4E3\",\"showland\":true,\"showlakes\":true,\"lakecolor\":\"white\"},\"title\":{\"x\":0.05},\"mapbox\":{\"style\":\"light\"}}},\"xaxis\":{\"title\":{\"text\":\"totalPE\"},\"showline\":true,\"ticks\":\"outside\",\"mirror\":true,\"linecolor\":\"black\",\"showgrid\":true,\"gridcolor\":\"grey\",\"gridwidth\":0.25},\"yaxis\":{\"showline\":true,\"ticks\":\"outside\",\"mirror\":true,\"linecolor\":\"black\",\"showgrid\":true,\"gridcolor\":\"grey\",\"gridwidth\":0.25,\"zeroline\":true,\"zerolinecolor\":\"black\",\"zerolinewidth\":0.25},\"legend\":{\"orientation\":\"h\",\"yanchor\":\"bottom\",\"y\":1.02,\"xanchor\":\"right\",\"x\":1},\"title\":{\"text\":\"XP2020 PMTs. Bi/Po\"},\"bargap\":0.0,\"barmode\":\"overlay\",\"height\":500,\"width\":950,\"updatemenus\":[{\"buttons\":[{\"args\":[{\"yaxis.type\":\"linear\"}],\"label\":\"Linear scale\",\"method\":\"relayout\"},{\"args\":[{\"yaxis.type\":\"log\"}],\"label\":\"Log scale\",\"method\":\"relayout\"}],\"direction\":\"left\",\"showactive\":true,\"type\":\"buttons\",\"x\":0.25,\"xanchor\":\"left\",\"y\":1.22,\"yanchor\":\"top\"},{\"buttons\":[{\"args\":[{\"visible\":[true,false]}],\"label\":\"Bar\",\"method\":\"update\"},{\"args\":[{\"visible\":[false,true]}],\"label\":\"Step\",\"method\":\"update\"}],\"direction\":\"left\",\"showactive\":true,\"type\":\"buttons\",\"x\":0.8,\"xanchor\":\"left\",\"y\":1.22,\"yanchor\":\"top\"}]},                        {\"responsive\": true}                    ).then(function(){\n",
       "                            \n",
       "var gd = document.getElementById('dbee828c-4587-428e-abe8-03d7b098521a');\n",
       "var x = new MutationObserver(function (mutations, observer) {{\n",
       "        var display = window.getComputedStyle(gd).display;\n",
       "        if (!display || display === 'none') {{\n",
       "            console.log([gd, 'removed!']);\n",
       "            Plotly.purge(gd);\n",
       "            observer.disconnect();\n",
       "        }}\n",
       "}});\n",
       "\n",
       "// Listen for the removal of the full notebook cells\n",
       "var notebookContainer = gd.closest('#notebook-container');\n",
       "if (notebookContainer) {{\n",
       "    x.observe(notebookContainer, {childList: true});\n",
       "}}\n",
       "\n",
       "// Listen for the clearing of the current output cell\n",
       "var outputEl = gd.closest('.output');\n",
       "if (outputEl) {{\n",
       "    x.observe(outputEl, {childList: true});\n",
       "}}\n",
       "\n",
       "                        })                };                });            </script>        </div>"
      ]
     },
     "metadata": {},
     "output_type": "display_data"
    }
   ],
   "source": [
    "colors = ['darkred', 'royalblue']\n",
    "source_counts, source_bins, totalPEs, nHits_array, edepScint_MeV_array = collect_data(sources, ideal=False, Nbins=100)\n",
    "plot_distr(source_counts, source_bins, sources, colors, title=\"XP2020 PMTs. Bi/Po\", xtitle=\"totalPE\")"
   ]
  },
  {
   "cell_type": "code",
   "execution_count": 4,
   "id": "05921df2-5b76-491c-871f-4e50ecc21c73",
   "metadata": {},
   "outputs": [],
   "source": [
    "source_counts, source_bins = comp_multiplicity(nHits_array)\n",
    "plot_distr(source_counts, source_bins, sources, colors, title=\"XP2020 PMTs. Bi214\", xtitle=\"Multiplicity\")"
   ]
  },
  {
   "cell_type": "code",
   "execution_count": 14,
   "id": "c52dabd4-8896-46e2-b43a-93d461ce243e",
   "metadata": {},
   "outputs": [],
   "source": [
    "counts_Bi, bins = np.histogram(edepScint_MeV_array[0], bins=100)\n",
    "bins1 = 0.5 * (bins[:-1] + bins[1:])\n",
    "\n",
    "counts_Po, bins = np.histogram(edepScint_MeV_array[1], bins=100)\n",
    "bins2 = 0.5 * (bins[:-1] + bins[1:])\n"
   ]
  },
  {
   "cell_type": "code",
   "execution_count": 17,
   "id": "e6396776-0270-4ae8-9f5f-7b27b726ea54",
   "metadata": {},
   "outputs": [
    {
     "data": {
      "application/vnd.plotly.v1+json": {
       "config": {
        "plotlyServerURL": "https://plot.ly"
       },
       "data": [
        {
         "marker": {
          "color": "darkred",
          "line": {
           "width": 0
          }
         },
         "name": "Bi214",
         "opacity": 0.7,
         "type": "bar",
         "x": [
          0.028131118044257164,
          0.08434387296438217,
          0.14055663347244263,
          0.19676938652992249,
          0.25298213958740234,
          0.3091948926448822,
          0.36540764570236206,
          0.4216204285621643,
          0.4778331518173218,
          0.534045934677124,
          0.5902586579322815,
          0.646471381187439,
          0.7026841640472412,
          0.7588969469070435,
          0.8151096701622009,
          0.8713224530220032,
          0.9275351762771606,
          0.9837479591369629,
          1.0399606227874756,
          1.0961735248565674,
          1.15238618850708,
          1.2085989713668823,
          1.2648117542266846,
          1.3210244178771973,
          1.377237319946289,
          1.4334499835968018,
          1.4896626472473145,
          1.5458755493164062,
          1.602088212966919,
          1.6583009958267212,
          1.7145137786865234,
          1.7707264423370361,
          1.826939344406128,
          1.8831520080566406,
          1.9393647909164429,
          1.9955775737762451,
          2.051790237426758,
          2.1080031394958496,
          2.1642158031463623,
          2.220428466796875,
          2.276641368865967,
          2.3328540325164795,
          2.389066696166992,
          2.445279598236084,
          2.501492500305176,
          2.5577049255371094,
          2.613917827606201,
          2.670130729675293,
          2.7263433933258057,
          2.7825560569763184,
          2.83876895904541,
          2.894981622695923,
          2.9511942863464355,
          3.0074071884155273,
          3.06361985206604,
          3.1198325157165527,
          3.1760454177856445,
          3.2322583198547363,
          3.28847074508667,
          3.3446836471557617,
          3.4008965492248535,
          3.457108974456787,
          3.513321876525879,
          3.5695347785949707,
          3.6257474422454834,
          3.681960105895996,
          3.738173007965088,
          3.7943856716156006,
          3.8505983352661133,
          3.906811237335205,
          3.963024139404297,
          4.0192365646362305,
          4.075449466705322,
          4.131662368774414,
          4.187874794006348,
          4.2440876960754395,
          4.300300598144531,
          4.356513023376465,
          4.412725925445557,
          4.468938827514648,
          4.525151252746582,
          4.581364631652832,
          4.637577056884766,
          4.693789482116699,
          4.750002861022949,
          4.806215286254883,
          4.862427711486816,
          4.918641090393066,
          4.974853515625,
          5.031065940856934,
          5.087279319763184,
          5.143491744995117,
          5.199704170227051,
          5.255917549133301,
          5.312129974365234,
          5.368342876434326,
          5.424555778503418,
          5.480768203735352,
          5.536981105804443,
          5.593194007873535
         ],
         "y": [
          208,
          234,
          261,
          268,
          307,
          316,
          325,
          340,
          330,
          358,
          383,
          363,
          336,
          350,
          348,
          316,
          289,
          253,
          265,
          256,
          238,
          263,
          241,
          215,
          181,
          199,
          186,
          230,
          179,
          173,
          180,
          156,
          163,
          144,
          128,
          116,
          101,
          109,
          108,
          74,
          96,
          74,
          67,
          53,
          49,
          39,
          40,
          25,
          18,
          16,
          7,
          10,
          8,
          2,
          2,
          0,
          0,
          0,
          0,
          0,
          0,
          0,
          0,
          0,
          0,
          0,
          0,
          0,
          0,
          0,
          0,
          0,
          0,
          0,
          0,
          0,
          0,
          0,
          0,
          0,
          0,
          0,
          0,
          0,
          0,
          0,
          0,
          0,
          0,
          0,
          0,
          0,
          0,
          0,
          0,
          0,
          0,
          0,
          0,
          4
         ]
        },
        {
         "line": {
          "shape": "hvh"
         },
         "marker": {
          "color": "darkred",
          "line": {
           "width": 0
          }
         },
         "name": "Bi214",
         "opacity": 0.7,
         "type": "scatter",
         "visible": false,
         "x": [
          0.028131118044257164,
          0.08434387296438217,
          0.14055663347244263,
          0.19676938652992249,
          0.25298213958740234,
          0.3091948926448822,
          0.36540764570236206,
          0.4216204285621643,
          0.4778331518173218,
          0.534045934677124,
          0.5902586579322815,
          0.646471381187439,
          0.7026841640472412,
          0.7588969469070435,
          0.8151096701622009,
          0.8713224530220032,
          0.9275351762771606,
          0.9837479591369629,
          1.0399606227874756,
          1.0961735248565674,
          1.15238618850708,
          1.2085989713668823,
          1.2648117542266846,
          1.3210244178771973,
          1.377237319946289,
          1.4334499835968018,
          1.4896626472473145,
          1.5458755493164062,
          1.602088212966919,
          1.6583009958267212,
          1.7145137786865234,
          1.7707264423370361,
          1.826939344406128,
          1.8831520080566406,
          1.9393647909164429,
          1.9955775737762451,
          2.051790237426758,
          2.1080031394958496,
          2.1642158031463623,
          2.220428466796875,
          2.276641368865967,
          2.3328540325164795,
          2.389066696166992,
          2.445279598236084,
          2.501492500305176,
          2.5577049255371094,
          2.613917827606201,
          2.670130729675293,
          2.7263433933258057,
          2.7825560569763184,
          2.83876895904541,
          2.894981622695923,
          2.9511942863464355,
          3.0074071884155273,
          3.06361985206604,
          3.1198325157165527,
          3.1760454177856445,
          3.2322583198547363,
          3.28847074508667,
          3.3446836471557617,
          3.4008965492248535,
          3.457108974456787,
          3.513321876525879,
          3.5695347785949707,
          3.6257474422454834,
          3.681960105895996,
          3.738173007965088,
          3.7943856716156006,
          3.8505983352661133,
          3.906811237335205,
          3.963024139404297,
          4.0192365646362305,
          4.075449466705322,
          4.131662368774414,
          4.187874794006348,
          4.2440876960754395,
          4.300300598144531,
          4.356513023376465,
          4.412725925445557,
          4.468938827514648,
          4.525151252746582,
          4.581364631652832,
          4.637577056884766,
          4.693789482116699,
          4.750002861022949,
          4.806215286254883,
          4.862427711486816,
          4.918641090393066,
          4.974853515625,
          5.031065940856934,
          5.087279319763184,
          5.143491744995117,
          5.199704170227051,
          5.255917549133301,
          5.312129974365234,
          5.368342876434326,
          5.424555778503418,
          5.480768203735352,
          5.536981105804443,
          5.593194007873535
         ],
         "y": [
          208,
          234,
          261,
          268,
          307,
          316,
          325,
          340,
          330,
          358,
          383,
          363,
          336,
          350,
          348,
          316,
          289,
          253,
          265,
          256,
          238,
          263,
          241,
          215,
          181,
          199,
          186,
          230,
          179,
          173,
          180,
          156,
          163,
          144,
          128,
          116,
          101,
          109,
          108,
          74,
          96,
          74,
          67,
          53,
          49,
          39,
          40,
          25,
          18,
          16,
          7,
          10,
          8,
          2,
          2,
          0,
          0,
          0,
          0,
          0,
          0,
          0,
          0,
          0,
          0,
          0,
          0,
          0,
          0,
          0,
          0,
          0,
          0,
          0,
          0,
          0,
          0,
          0,
          0,
          0,
          0,
          0,
          0,
          0,
          0,
          0,
          0,
          0,
          0,
          0,
          0,
          0,
          0,
          0,
          0,
          0,
          0,
          0,
          0,
          4
         ]
        },
        {
         "marker": {
          "color": "royalblue",
          "line": {
           "width": 0
          }
         },
         "name": "Po214",
         "opacity": 0.7,
         "type": "bar",
         "x": [
          1.7066676616668701,
          1.7682435512542725,
          1.8298194408416748,
          1.891395092010498,
          1.9529709815979004,
          2.0145466327667236,
          2.076122522354126,
          2.1376984119415283,
          2.1992740631103516,
          2.260849952697754,
          2.3224258422851562,
          2.3840017318725586,
          2.445577383041382,
          2.507153272628784,
          2.5687289237976074,
          2.6303048133850098,
          2.691880702972412,
          2.7534563541412354,
          2.8150322437286377,
          2.876607894897461,
          2.9381837844848633,
          2.9997596740722656,
          3.061335563659668,
          3.122911214828491,
          3.1844871044158936,
          3.246062755584717,
          3.307638645172119,
          3.3692145347595215,
          3.430790424346924,
          3.492366075515747,
          3.5539417266845703,
          3.6155176162719727,
          3.677093505859375,
          3.7386693954467773,
          3.8002450466156006,
          3.861820936203003,
          3.923396587371826,
          3.9849724769592285,
          4.046548366546631,
          4.108124256134033,
          4.169699668884277,
          4.23127555847168,
          4.292851448059082,
          4.354427337646484,
          4.416003227233887,
          4.477579116821289,
          4.539155006408691,
          4.6007304191589355,
          4.662306308746338,
          4.72388219833374,
          4.785458087921143,
          4.847033977508545,
          4.908609390258789,
          4.970185279846191,
          5.031761169433594,
          5.093337059020996,
          5.154912948608398,
          5.216488838195801,
          5.278064250946045,
          5.339640140533447,
          5.40121603012085,
          5.462791919708252,
          5.524367809295654,
          5.585943222045898,
          5.647519111633301,
          5.709095001220703,
          5.7706708908081055,
          5.832246780395508,
          5.89382266998291,
          5.9553985595703125,
          6.016973972320557,
          6.078549861907959,
          6.140125751495361,
          6.201701641082764,
          6.263277053833008,
          6.32485294342041,
          6.3864288330078125,
          6.448004722595215,
          6.509580612182617,
          6.5711565017700195,
          6.632732391357422,
          6.694307804107666,
          6.755883693695068,
          6.817459583282471,
          6.879035472869873,
          6.940610885620117,
          7.0021867752075195,
          7.063762664794922,
          7.125338554382324,
          7.186914443969727,
          7.248490333557129,
          7.310066223144531,
          7.371641635894775,
          7.433217525482178,
          7.49479341506958,
          7.556369304656982,
          7.617945194244385,
          7.679520606994629,
          7.741096496582031,
          7.802672386169434
         ],
         "y": [
          2,
          0,
          0,
          0,
          0,
          0,
          0,
          0,
          0,
          0,
          0,
          0,
          0,
          0,
          0,
          0,
          0,
          0,
          0,
          0,
          0,
          0,
          0,
          0,
          0,
          0,
          0,
          1,
          0,
          0,
          0,
          0,
          0,
          0,
          0,
          0,
          0,
          0,
          0,
          0,
          0,
          0,
          0,
          0,
          0,
          0,
          0,
          0,
          0,
          0,
          0,
          0,
          0,
          0,
          0,
          0,
          0,
          0,
          1,
          0,
          0,
          0,
          1,
          0,
          0,
          0,
          0,
          0,
          0,
          0,
          0,
          0,
          0,
          0,
          0,
          0,
          0,
          0,
          0,
          0,
          0,
          0,
          0,
          0,
          0,
          0,
          0,
          1,
          0,
          0,
          0,
          0,
          0,
          0,
          0,
          0,
          0,
          1,
          0,
          9993
         ]
        },
        {
         "line": {
          "shape": "hvh"
         },
         "marker": {
          "color": "royalblue",
          "line": {
           "width": 0
          }
         },
         "name": "Po214",
         "opacity": 0.7,
         "type": "scatter",
         "visible": false,
         "x": [
          1.7066676616668701,
          1.7682435512542725,
          1.8298194408416748,
          1.891395092010498,
          1.9529709815979004,
          2.0145466327667236,
          2.076122522354126,
          2.1376984119415283,
          2.1992740631103516,
          2.260849952697754,
          2.3224258422851562,
          2.3840017318725586,
          2.445577383041382,
          2.507153272628784,
          2.5687289237976074,
          2.6303048133850098,
          2.691880702972412,
          2.7534563541412354,
          2.8150322437286377,
          2.876607894897461,
          2.9381837844848633,
          2.9997596740722656,
          3.061335563659668,
          3.122911214828491,
          3.1844871044158936,
          3.246062755584717,
          3.307638645172119,
          3.3692145347595215,
          3.430790424346924,
          3.492366075515747,
          3.5539417266845703,
          3.6155176162719727,
          3.677093505859375,
          3.7386693954467773,
          3.8002450466156006,
          3.861820936203003,
          3.923396587371826,
          3.9849724769592285,
          4.046548366546631,
          4.108124256134033,
          4.169699668884277,
          4.23127555847168,
          4.292851448059082,
          4.354427337646484,
          4.416003227233887,
          4.477579116821289,
          4.539155006408691,
          4.6007304191589355,
          4.662306308746338,
          4.72388219833374,
          4.785458087921143,
          4.847033977508545,
          4.908609390258789,
          4.970185279846191,
          5.031761169433594,
          5.093337059020996,
          5.154912948608398,
          5.216488838195801,
          5.278064250946045,
          5.339640140533447,
          5.40121603012085,
          5.462791919708252,
          5.524367809295654,
          5.585943222045898,
          5.647519111633301,
          5.709095001220703,
          5.7706708908081055,
          5.832246780395508,
          5.89382266998291,
          5.9553985595703125,
          6.016973972320557,
          6.078549861907959,
          6.140125751495361,
          6.201701641082764,
          6.263277053833008,
          6.32485294342041,
          6.3864288330078125,
          6.448004722595215,
          6.509580612182617,
          6.5711565017700195,
          6.632732391357422,
          6.694307804107666,
          6.755883693695068,
          6.817459583282471,
          6.879035472869873,
          6.940610885620117,
          7.0021867752075195,
          7.063762664794922,
          7.125338554382324,
          7.186914443969727,
          7.248490333557129,
          7.310066223144531,
          7.371641635894775,
          7.433217525482178,
          7.49479341506958,
          7.556369304656982,
          7.617945194244385,
          7.679520606994629,
          7.741096496582031,
          7.802672386169434
         ],
         "y": [
          2,
          0,
          0,
          0,
          0,
          0,
          0,
          0,
          0,
          0,
          0,
          0,
          0,
          0,
          0,
          0,
          0,
          0,
          0,
          0,
          0,
          0,
          0,
          0,
          0,
          0,
          0,
          1,
          0,
          0,
          0,
          0,
          0,
          0,
          0,
          0,
          0,
          0,
          0,
          0,
          0,
          0,
          0,
          0,
          0,
          0,
          0,
          0,
          0,
          0,
          0,
          0,
          0,
          0,
          0,
          0,
          0,
          0,
          1,
          0,
          0,
          0,
          1,
          0,
          0,
          0,
          0,
          0,
          0,
          0,
          0,
          0,
          0,
          0,
          0,
          0,
          0,
          0,
          0,
          0,
          0,
          0,
          0,
          0,
          0,
          0,
          0,
          1,
          0,
          0,
          0,
          0,
          0,
          0,
          0,
          0,
          0,
          1,
          0,
          9993
         ]
        }
       ],
       "layout": {
        "bargap": 0,
        "barmode": "overlay",
        "height": 500,
        "legend": {
         "orientation": "h",
         "x": 1,
         "xanchor": "right",
         "y": 1.02,
         "yanchor": "bottom"
        },
        "template": {
         "data": {
          "bar": [
           {
            "error_x": {
             "color": "#2a3f5f"
            },
            "error_y": {
             "color": "#2a3f5f"
            },
            "marker": {
             "line": {
              "color": "white",
              "width": 0.5
             },
             "pattern": {
              "fillmode": "overlay",
              "size": 10,
              "solidity": 0.2
             }
            },
            "type": "bar"
           }
          ],
          "barpolar": [
           {
            "marker": {
             "line": {
              "color": "white",
              "width": 0.5
             },
             "pattern": {
              "fillmode": "overlay",
              "size": 10,
              "solidity": 0.2
             }
            },
            "type": "barpolar"
           }
          ],
          "carpet": [
           {
            "aaxis": {
             "endlinecolor": "#2a3f5f",
             "gridcolor": "#C8D4E3",
             "linecolor": "#C8D4E3",
             "minorgridcolor": "#C8D4E3",
             "startlinecolor": "#2a3f5f"
            },
            "baxis": {
             "endlinecolor": "#2a3f5f",
             "gridcolor": "#C8D4E3",
             "linecolor": "#C8D4E3",
             "minorgridcolor": "#C8D4E3",
             "startlinecolor": "#2a3f5f"
            },
            "type": "carpet"
           }
          ],
          "choropleth": [
           {
            "colorbar": {
             "outlinewidth": 0,
             "ticks": ""
            },
            "type": "choropleth"
           }
          ],
          "contour": [
           {
            "colorbar": {
             "outlinewidth": 0,
             "ticks": ""
            },
            "colorscale": [
             [
              0,
              "#0d0887"
             ],
             [
              0.1111111111111111,
              "#46039f"
             ],
             [
              0.2222222222222222,
              "#7201a8"
             ],
             [
              0.3333333333333333,
              "#9c179e"
             ],
             [
              0.4444444444444444,
              "#bd3786"
             ],
             [
              0.5555555555555556,
              "#d8576b"
             ],
             [
              0.6666666666666666,
              "#ed7953"
             ],
             [
              0.7777777777777778,
              "#fb9f3a"
             ],
             [
              0.8888888888888888,
              "#fdca26"
             ],
             [
              1,
              "#f0f921"
             ]
            ],
            "type": "contour"
           }
          ],
          "contourcarpet": [
           {
            "colorbar": {
             "outlinewidth": 0,
             "ticks": ""
            },
            "type": "contourcarpet"
           }
          ],
          "heatmap": [
           {
            "colorbar": {
             "outlinewidth": 0,
             "ticks": ""
            },
            "colorscale": [
             [
              0,
              "#0d0887"
             ],
             [
              0.1111111111111111,
              "#46039f"
             ],
             [
              0.2222222222222222,
              "#7201a8"
             ],
             [
              0.3333333333333333,
              "#9c179e"
             ],
             [
              0.4444444444444444,
              "#bd3786"
             ],
             [
              0.5555555555555556,
              "#d8576b"
             ],
             [
              0.6666666666666666,
              "#ed7953"
             ],
             [
              0.7777777777777778,
              "#fb9f3a"
             ],
             [
              0.8888888888888888,
              "#fdca26"
             ],
             [
              1,
              "#f0f921"
             ]
            ],
            "type": "heatmap"
           }
          ],
          "heatmapgl": [
           {
            "colorbar": {
             "outlinewidth": 0,
             "ticks": ""
            },
            "colorscale": [
             [
              0,
              "#0d0887"
             ],
             [
              0.1111111111111111,
              "#46039f"
             ],
             [
              0.2222222222222222,
              "#7201a8"
             ],
             [
              0.3333333333333333,
              "#9c179e"
             ],
             [
              0.4444444444444444,
              "#bd3786"
             ],
             [
              0.5555555555555556,
              "#d8576b"
             ],
             [
              0.6666666666666666,
              "#ed7953"
             ],
             [
              0.7777777777777778,
              "#fb9f3a"
             ],
             [
              0.8888888888888888,
              "#fdca26"
             ],
             [
              1,
              "#f0f921"
             ]
            ],
            "type": "heatmapgl"
           }
          ],
          "histogram": [
           {
            "marker": {
             "pattern": {
              "fillmode": "overlay",
              "size": 10,
              "solidity": 0.2
             }
            },
            "type": "histogram"
           }
          ],
          "histogram2d": [
           {
            "colorbar": {
             "outlinewidth": 0,
             "ticks": ""
            },
            "colorscale": [
             [
              0,
              "#0d0887"
             ],
             [
              0.1111111111111111,
              "#46039f"
             ],
             [
              0.2222222222222222,
              "#7201a8"
             ],
             [
              0.3333333333333333,
              "#9c179e"
             ],
             [
              0.4444444444444444,
              "#bd3786"
             ],
             [
              0.5555555555555556,
              "#d8576b"
             ],
             [
              0.6666666666666666,
              "#ed7953"
             ],
             [
              0.7777777777777778,
              "#fb9f3a"
             ],
             [
              0.8888888888888888,
              "#fdca26"
             ],
             [
              1,
              "#f0f921"
             ]
            ],
            "type": "histogram2d"
           }
          ],
          "histogram2dcontour": [
           {
            "colorbar": {
             "outlinewidth": 0,
             "ticks": ""
            },
            "colorscale": [
             [
              0,
              "#0d0887"
             ],
             [
              0.1111111111111111,
              "#46039f"
             ],
             [
              0.2222222222222222,
              "#7201a8"
             ],
             [
              0.3333333333333333,
              "#9c179e"
             ],
             [
              0.4444444444444444,
              "#bd3786"
             ],
             [
              0.5555555555555556,
              "#d8576b"
             ],
             [
              0.6666666666666666,
              "#ed7953"
             ],
             [
              0.7777777777777778,
              "#fb9f3a"
             ],
             [
              0.8888888888888888,
              "#fdca26"
             ],
             [
              1,
              "#f0f921"
             ]
            ],
            "type": "histogram2dcontour"
           }
          ],
          "mesh3d": [
           {
            "colorbar": {
             "outlinewidth": 0,
             "ticks": ""
            },
            "type": "mesh3d"
           }
          ],
          "parcoords": [
           {
            "line": {
             "colorbar": {
              "outlinewidth": 0,
              "ticks": ""
             }
            },
            "type": "parcoords"
           }
          ],
          "pie": [
           {
            "automargin": true,
            "type": "pie"
           }
          ],
          "scatter": [
           {
            "fillpattern": {
             "fillmode": "overlay",
             "size": 10,
             "solidity": 0.2
            },
            "type": "scatter"
           }
          ],
          "scatter3d": [
           {
            "line": {
             "colorbar": {
              "outlinewidth": 0,
              "ticks": ""
             }
            },
            "marker": {
             "colorbar": {
              "outlinewidth": 0,
              "ticks": ""
             }
            },
            "type": "scatter3d"
           }
          ],
          "scattercarpet": [
           {
            "marker": {
             "colorbar": {
              "outlinewidth": 0,
              "ticks": ""
             }
            },
            "type": "scattercarpet"
           }
          ],
          "scattergeo": [
           {
            "marker": {
             "colorbar": {
              "outlinewidth": 0,
              "ticks": ""
             }
            },
            "type": "scattergeo"
           }
          ],
          "scattergl": [
           {
            "marker": {
             "colorbar": {
              "outlinewidth": 0,
              "ticks": ""
             }
            },
            "type": "scattergl"
           }
          ],
          "scattermapbox": [
           {
            "marker": {
             "colorbar": {
              "outlinewidth": 0,
              "ticks": ""
             }
            },
            "type": "scattermapbox"
           }
          ],
          "scatterpolar": [
           {
            "marker": {
             "colorbar": {
              "outlinewidth": 0,
              "ticks": ""
             }
            },
            "type": "scatterpolar"
           }
          ],
          "scatterpolargl": [
           {
            "marker": {
             "colorbar": {
              "outlinewidth": 0,
              "ticks": ""
             }
            },
            "type": "scatterpolargl"
           }
          ],
          "scatterternary": [
           {
            "marker": {
             "colorbar": {
              "outlinewidth": 0,
              "ticks": ""
             }
            },
            "type": "scatterternary"
           }
          ],
          "surface": [
           {
            "colorbar": {
             "outlinewidth": 0,
             "ticks": ""
            },
            "colorscale": [
             [
              0,
              "#0d0887"
             ],
             [
              0.1111111111111111,
              "#46039f"
             ],
             [
              0.2222222222222222,
              "#7201a8"
             ],
             [
              0.3333333333333333,
              "#9c179e"
             ],
             [
              0.4444444444444444,
              "#bd3786"
             ],
             [
              0.5555555555555556,
              "#d8576b"
             ],
             [
              0.6666666666666666,
              "#ed7953"
             ],
             [
              0.7777777777777778,
              "#fb9f3a"
             ],
             [
              0.8888888888888888,
              "#fdca26"
             ],
             [
              1,
              "#f0f921"
             ]
            ],
            "type": "surface"
           }
          ],
          "table": [
           {
            "cells": {
             "fill": {
              "color": "#EBF0F8"
             },
             "line": {
              "color": "white"
             }
            },
            "header": {
             "fill": {
              "color": "#C8D4E3"
             },
             "line": {
              "color": "white"
             }
            },
            "type": "table"
           }
          ]
         },
         "layout": {
          "annotationdefaults": {
           "arrowcolor": "#2a3f5f",
           "arrowhead": 0,
           "arrowwidth": 1
          },
          "autotypenumbers": "strict",
          "coloraxis": {
           "colorbar": {
            "outlinewidth": 0,
            "ticks": ""
           }
          },
          "colorscale": {
           "diverging": [
            [
             0,
             "#8e0152"
            ],
            [
             0.1,
             "#c51b7d"
            ],
            [
             0.2,
             "#de77ae"
            ],
            [
             0.3,
             "#f1b6da"
            ],
            [
             0.4,
             "#fde0ef"
            ],
            [
             0.5,
             "#f7f7f7"
            ],
            [
             0.6,
             "#e6f5d0"
            ],
            [
             0.7,
             "#b8e186"
            ],
            [
             0.8,
             "#7fbc41"
            ],
            [
             0.9,
             "#4d9221"
            ],
            [
             1,
             "#276419"
            ]
           ],
           "sequential": [
            [
             0,
             "#0d0887"
            ],
            [
             0.1111111111111111,
             "#46039f"
            ],
            [
             0.2222222222222222,
             "#7201a8"
            ],
            [
             0.3333333333333333,
             "#9c179e"
            ],
            [
             0.4444444444444444,
             "#bd3786"
            ],
            [
             0.5555555555555556,
             "#d8576b"
            ],
            [
             0.6666666666666666,
             "#ed7953"
            ],
            [
             0.7777777777777778,
             "#fb9f3a"
            ],
            [
             0.8888888888888888,
             "#fdca26"
            ],
            [
             1,
             "#f0f921"
            ]
           ],
           "sequentialminus": [
            [
             0,
             "#0d0887"
            ],
            [
             0.1111111111111111,
             "#46039f"
            ],
            [
             0.2222222222222222,
             "#7201a8"
            ],
            [
             0.3333333333333333,
             "#9c179e"
            ],
            [
             0.4444444444444444,
             "#bd3786"
            ],
            [
             0.5555555555555556,
             "#d8576b"
            ],
            [
             0.6666666666666666,
             "#ed7953"
            ],
            [
             0.7777777777777778,
             "#fb9f3a"
            ],
            [
             0.8888888888888888,
             "#fdca26"
            ],
            [
             1,
             "#f0f921"
            ]
           ]
          },
          "colorway": [
           "#636efa",
           "#EF553B",
           "#00cc96",
           "#ab63fa",
           "#FFA15A",
           "#19d3f3",
           "#FF6692",
           "#B6E880",
           "#FF97FF",
           "#FECB52"
          ],
          "font": {
           "color": "#2a3f5f"
          },
          "geo": {
           "bgcolor": "white",
           "lakecolor": "white",
           "landcolor": "white",
           "showlakes": true,
           "showland": true,
           "subunitcolor": "#C8D4E3"
          },
          "hoverlabel": {
           "align": "left"
          },
          "hovermode": "closest",
          "mapbox": {
           "style": "light"
          },
          "paper_bgcolor": "white",
          "plot_bgcolor": "white",
          "polar": {
           "angularaxis": {
            "gridcolor": "#EBF0F8",
            "linecolor": "#EBF0F8",
            "ticks": ""
           },
           "bgcolor": "white",
           "radialaxis": {
            "gridcolor": "#EBF0F8",
            "linecolor": "#EBF0F8",
            "ticks": ""
           }
          },
          "scene": {
           "xaxis": {
            "backgroundcolor": "white",
            "gridcolor": "#DFE8F3",
            "gridwidth": 2,
            "linecolor": "#EBF0F8",
            "showbackground": true,
            "ticks": "",
            "zerolinecolor": "#EBF0F8"
           },
           "yaxis": {
            "backgroundcolor": "white",
            "gridcolor": "#DFE8F3",
            "gridwidth": 2,
            "linecolor": "#EBF0F8",
            "showbackground": true,
            "ticks": "",
            "zerolinecolor": "#EBF0F8"
           },
           "zaxis": {
            "backgroundcolor": "white",
            "gridcolor": "#DFE8F3",
            "gridwidth": 2,
            "linecolor": "#EBF0F8",
            "showbackground": true,
            "ticks": "",
            "zerolinecolor": "#EBF0F8"
           }
          },
          "shapedefaults": {
           "line": {
            "color": "#2a3f5f"
           }
          },
          "ternary": {
           "aaxis": {
            "gridcolor": "#DFE8F3",
            "linecolor": "#A2B1C6",
            "ticks": ""
           },
           "baxis": {
            "gridcolor": "#DFE8F3",
            "linecolor": "#A2B1C6",
            "ticks": ""
           },
           "bgcolor": "white",
           "caxis": {
            "gridcolor": "#DFE8F3",
            "linecolor": "#A2B1C6",
            "ticks": ""
           }
          },
          "title": {
           "x": 0.05
          },
          "xaxis": {
           "automargin": true,
           "gridcolor": "#EBF0F8",
           "linecolor": "#EBF0F8",
           "ticks": "",
           "title": {
            "standoff": 15
           },
           "zerolinecolor": "#EBF0F8",
           "zerolinewidth": 2
          },
          "yaxis": {
           "automargin": true,
           "gridcolor": "#EBF0F8",
           "linecolor": "#EBF0F8",
           "ticks": "",
           "title": {
            "standoff": 15
           },
           "zerolinecolor": "#EBF0F8",
           "zerolinewidth": 2
          }
         }
        },
        "title": {
         "text": "XP2020 PMTs. Bi214"
        },
        "updatemenus": [
         {
          "active": 1,
          "buttons": [
           {
            "args": [
             {
              "yaxis.type": "linear"
             }
            ],
            "label": "Linear scale",
            "method": "relayout"
           },
           {
            "args": [
             {
              "yaxis.type": "log"
             }
            ],
            "label": "Log scale",
            "method": "relayout"
           }
          ],
          "direction": "left",
          "showactive": true,
          "type": "buttons",
          "x": 0.25,
          "xanchor": "left",
          "y": 1.22,
          "yanchor": "top"
         },
         {
          "buttons": [
           {
            "args": [
             {
              "visible": [
               true,
               false
              ]
             }
            ],
            "label": "Bar",
            "method": "update"
           },
           {
            "args": [
             {
              "visible": [
               false,
               true
              ]
             }
            ],
            "label": "Step",
            "method": "update"
           }
          ],
          "direction": "left",
          "showactive": true,
          "type": "buttons",
          "x": 0.8,
          "xanchor": "left",
          "y": 1.22,
          "yanchor": "top"
         }
        ],
        "width": 950,
        "xaxis": {
         "autorange": true,
         "gridcolor": "grey",
         "gridwidth": 0.25,
         "linecolor": "black",
         "mirror": true,
         "range": [
          2.4905428290367126e-05,
          7.833460092544556
         ],
         "showgrid": true,
         "showline": true,
         "ticks": "outside",
         "title": {
          "text": "Edep"
         },
         "type": "linear"
        },
        "yaxis": {
         "autorange": true,
         "gridcolor": "grey",
         "gridwidth": 0.25,
         "linecolor": "black",
         "mirror": true,
         "range": [
          -0.22220532707837992,
          4.221901214489218
         ],
         "showgrid": true,
         "showline": true,
         "ticks": "outside",
         "type": "log",
         "zeroline": true,
         "zerolinecolor": "black",
         "zerolinewidth": 0.25
        }
       }
      },
      "image/png": "[encoded data removed]",
      "text/html": [
       "<div>                            <div id=\"7401a72c-f57e-4f6d-b633-f2b8aeb69f90\" class=\"plotly-graph-div\" style=\"height:500px; width:950px;\"></div>            <script type=\"text/javascript\">                require([\"plotly\"], function(Plotly) {                    window.PLOTLYENV=window.PLOTLYENV || {};                                    if (document.getElementById(\"7401a72c-f57e-4f6d-b633-f2b8aeb69f90\")) {                    Plotly.newPlot(                        \"7401a72c-f57e-4f6d-b633-f2b8aeb69f90\",                        [{\"marker\":{\"color\":\"darkred\",\"line\":{\"width\":0.0}},\"name\":\"Bi214\",\"opacity\":0.7,\"x\":[0.028131118044257164,0.08434387296438217,0.14055663347244263,0.19676938652992249,0.25298213958740234,0.3091948926448822,0.36540764570236206,0.4216204285621643,0.4778331518173218,0.534045934677124,0.5902586579322815,0.646471381187439,0.7026841640472412,0.7588969469070435,0.8151096701622009,0.8713224530220032,0.9275351762771606,0.9837479591369629,1.0399606227874756,1.0961735248565674,1.15238618850708,1.2085989713668823,1.2648117542266846,1.3210244178771973,1.377237319946289,1.4334499835968018,1.4896626472473145,1.5458755493164062,1.602088212966919,1.6583009958267212,1.7145137786865234,1.7707264423370361,1.826939344406128,1.8831520080566406,1.9393647909164429,1.9955775737762451,2.051790237426758,2.1080031394958496,2.1642158031463623,2.220428466796875,2.276641368865967,2.3328540325164795,2.389066696166992,2.445279598236084,2.501492500305176,2.5577049255371094,2.613917827606201,2.670130729675293,2.7263433933258057,2.7825560569763184,2.83876895904541,2.894981622695923,2.9511942863464355,3.0074071884155273,3.06361985206604,3.1198325157165527,3.1760454177856445,3.2322583198547363,3.28847074508667,3.3446836471557617,3.4008965492248535,3.457108974456787,3.513321876525879,3.5695347785949707,3.6257474422454834,3.681960105895996,3.738173007965088,3.7943856716156006,3.8505983352661133,3.906811237335205,3.963024139404297,4.0192365646362305,4.075449466705322,4.131662368774414,4.187874794006348,4.2440876960754395,4.300300598144531,4.356513023376465,4.412725925445557,4.468938827514648,4.525151252746582,4.581364631652832,4.637577056884766,4.693789482116699,4.750002861022949,4.806215286254883,4.862427711486816,4.918641090393066,4.974853515625,5.031065940856934,5.087279319763184,5.143491744995117,5.199704170227051,5.255917549133301,5.312129974365234,5.368342876434326,5.424555778503418,5.480768203735352,5.536981105804443,5.593194007873535],\"y\":[208,234,261,268,307,316,325,340,330,358,383,363,336,350,348,316,289,253,265,256,238,263,241,215,181,199,186,230,179,173,180,156,163,144,128,116,101,109,108,74,96,74,67,53,49,39,40,25,18,16,7,10,8,2,2,0,0,0,0,0,0,0,0,0,0,0,0,0,0,0,0,0,0,0,0,0,0,0,0,0,0,0,0,0,0,0,0,0,0,0,0,0,0,0,0,0,0,0,0,4],\"type\":\"bar\"},{\"line\":{\"shape\":\"hvh\"},\"marker\":{\"color\":\"darkred\",\"line\":{\"width\":0.0}},\"name\":\"Bi214\",\"opacity\":0.7,\"visible\":false,\"x\":[0.028131118044257164,0.08434387296438217,0.14055663347244263,0.19676938652992249,0.25298213958740234,0.3091948926448822,0.36540764570236206,0.4216204285621643,0.4778331518173218,0.534045934677124,0.5902586579322815,0.646471381187439,0.7026841640472412,0.7588969469070435,0.8151096701622009,0.8713224530220032,0.9275351762771606,0.9837479591369629,1.0399606227874756,1.0961735248565674,1.15238618850708,1.2085989713668823,1.2648117542266846,1.3210244178771973,1.377237319946289,1.4334499835968018,1.4896626472473145,1.5458755493164062,1.602088212966919,1.6583009958267212,1.7145137786865234,1.7707264423370361,1.826939344406128,1.8831520080566406,1.9393647909164429,1.9955775737762451,2.051790237426758,2.1080031394958496,2.1642158031463623,2.220428466796875,2.276641368865967,2.3328540325164795,2.389066696166992,2.445279598236084,2.501492500305176,2.5577049255371094,2.613917827606201,2.670130729675293,2.7263433933258057,2.7825560569763184,2.83876895904541,2.894981622695923,2.9511942863464355,3.0074071884155273,3.06361985206604,3.1198325157165527,3.1760454177856445,3.2322583198547363,3.28847074508667,3.3446836471557617,3.4008965492248535,3.457108974456787,3.513321876525879,3.5695347785949707,3.6257474422454834,3.681960105895996,3.738173007965088,3.7943856716156006,3.8505983352661133,3.906811237335205,3.963024139404297,4.0192365646362305,4.075449466705322,4.131662368774414,4.187874794006348,4.2440876960754395,4.300300598144531,4.356513023376465,4.412725925445557,4.468938827514648,4.525151252746582,4.581364631652832,4.637577056884766,4.693789482116699,4.750002861022949,4.806215286254883,4.862427711486816,4.918641090393066,4.974853515625,5.031065940856934,5.087279319763184,5.143491744995117,5.199704170227051,5.255917549133301,5.312129974365234,5.368342876434326,5.424555778503418,5.480768203735352,5.536981105804443,5.593194007873535],\"y\":[208,234,261,268,307,316,325,340,330,358,383,363,336,350,348,316,289,253,265,256,238,263,241,215,181,199,186,230,179,173,180,156,163,144,128,116,101,109,108,74,96,74,67,53,49,39,40,25,18,16,7,10,8,2,2,0,0,0,0,0,0,0,0,0,0,0,0,0,0,0,0,0,0,0,0,0,0,0,0,0,0,0,0,0,0,0,0,0,0,0,0,0,0,0,0,0,0,0,0,4],\"type\":\"scatter\"},{\"marker\":{\"color\":\"royalblue\",\"line\":{\"width\":0.0}},\"name\":\"Po214\",\"opacity\":0.7,\"x\":[1.7066676616668701,1.7682435512542725,1.8298194408416748,1.891395092010498,1.9529709815979004,2.0145466327667236,2.076122522354126,2.1376984119415283,2.1992740631103516,2.260849952697754,2.3224258422851562,2.3840017318725586,2.445577383041382,2.507153272628784,2.5687289237976074,2.6303048133850098,2.691880702972412,2.7534563541412354,2.8150322437286377,2.876607894897461,2.9381837844848633,2.9997596740722656,3.061335563659668,3.122911214828491,3.1844871044158936,3.246062755584717,3.307638645172119,3.3692145347595215,3.430790424346924,3.492366075515747,3.5539417266845703,3.6155176162719727,3.677093505859375,3.7386693954467773,3.8002450466156006,3.861820936203003,3.923396587371826,3.9849724769592285,4.046548366546631,4.108124256134033,4.169699668884277,4.23127555847168,4.292851448059082,4.354427337646484,4.416003227233887,4.477579116821289,4.539155006408691,4.6007304191589355,4.662306308746338,4.72388219833374,4.785458087921143,4.847033977508545,4.908609390258789,4.970185279846191,5.031761169433594,5.093337059020996,5.154912948608398,5.216488838195801,5.278064250946045,5.339640140533447,5.40121603012085,5.462791919708252,5.524367809295654,5.585943222045898,5.647519111633301,5.709095001220703,5.7706708908081055,5.832246780395508,5.89382266998291,5.9553985595703125,6.016973972320557,6.078549861907959,6.140125751495361,6.201701641082764,6.263277053833008,6.32485294342041,6.3864288330078125,6.448004722595215,6.509580612182617,6.5711565017700195,6.632732391357422,6.694307804107666,6.755883693695068,6.817459583282471,6.879035472869873,6.940610885620117,7.0021867752075195,7.063762664794922,7.125338554382324,7.186914443969727,7.248490333557129,7.310066223144531,7.371641635894775,7.433217525482178,7.49479341506958,7.556369304656982,7.617945194244385,7.679520606994629,7.741096496582031,7.802672386169434],\"y\":[2,0,0,0,0,0,0,0,0,0,0,0,0,0,0,0,0,0,0,0,0,0,0,0,0,0,0,1,0,0,0,0,0,0,0,0,0,0,0,0,0,0,0,0,0,0,0,0,0,0,0,0,0,0,0,0,0,0,1,0,0,0,1,0,0,0,0,0,0,0,0,0,0,0,0,0,0,0,0,0,0,0,0,0,0,0,0,1,0,0,0,0,0,0,0,0,0,1,0,9993],\"type\":\"bar\"},{\"line\":{\"shape\":\"hvh\"},\"marker\":{\"color\":\"royalblue\",\"line\":{\"width\":0.0}},\"name\":\"Po214\",\"opacity\":0.7,\"visible\":false,\"x\":[1.7066676616668701,1.7682435512542725,1.8298194408416748,1.891395092010498,1.9529709815979004,2.0145466327667236,2.076122522354126,2.1376984119415283,2.1992740631103516,2.260849952697754,2.3224258422851562,2.3840017318725586,2.445577383041382,2.507153272628784,2.5687289237976074,2.6303048133850098,2.691880702972412,2.7534563541412354,2.8150322437286377,2.876607894897461,2.9381837844848633,2.9997596740722656,3.061335563659668,3.122911214828491,3.1844871044158936,3.246062755584717,3.307638645172119,3.3692145347595215,3.430790424346924,3.492366075515747,3.5539417266845703,3.6155176162719727,3.677093505859375,3.7386693954467773,3.8002450466156006,3.861820936203003,3.923396587371826,3.9849724769592285,4.046548366546631,4.108124256134033,4.169699668884277,4.23127555847168,4.292851448059082,4.354427337646484,4.416003227233887,4.477579116821289,4.539155006408691,4.6007304191589355,4.662306308746338,4.72388219833374,4.785458087921143,4.847033977508545,4.908609390258789,4.970185279846191,5.031761169433594,5.093337059020996,5.154912948608398,5.216488838195801,5.278064250946045,5.339640140533447,5.40121603012085,5.462791919708252,5.524367809295654,5.585943222045898,5.647519111633301,5.709095001220703,5.7706708908081055,5.832246780395508,5.89382266998291,5.9553985595703125,6.016973972320557,6.078549861907959,6.140125751495361,6.201701641082764,6.263277053833008,6.32485294342041,6.3864288330078125,6.448004722595215,6.509580612182617,6.5711565017700195,6.632732391357422,6.694307804107666,6.755883693695068,6.817459583282471,6.879035472869873,6.940610885620117,7.0021867752075195,7.063762664794922,7.125338554382324,7.186914443969727,7.248490333557129,7.310066223144531,7.371641635894775,7.433217525482178,7.49479341506958,7.556369304656982,7.617945194244385,7.679520606994629,7.741096496582031,7.802672386169434],\"y\":[2,0,0,0,0,0,0,0,0,0,0,0,0,0,0,0,0,0,0,0,0,0,0,0,0,0,0,1,0,0,0,0,0,0,0,0,0,0,0,0,0,0,0,0,0,0,0,0,0,0,0,0,0,0,0,0,0,0,1,0,0,0,1,0,0,0,0,0,0,0,0,0,0,0,0,0,0,0,0,0,0,0,0,0,0,0,0,1,0,0,0,0,0,0,0,0,0,1,0,9993],\"type\":\"scatter\"}],                        {\"template\":{\"data\":{\"histogram2dcontour\":[{\"type\":\"histogram2dcontour\",\"colorbar\":{\"outlinewidth\":0,\"ticks\":\"\"},\"colorscale\":[[0.0,\"#0d0887\"],[0.1111111111111111,\"#46039f\"],[0.2222222222222222,\"#7201a8\"],[0.3333333333333333,\"#9c179e\"],[0.4444444444444444,\"#bd3786\"],[0.5555555555555556,\"#d8576b\"],[0.6666666666666666,\"#ed7953\"],[0.7777777777777778,\"#fb9f3a\"],[0.8888888888888888,\"#fdca26\"],[1.0,\"#f0f921\"]]}],\"choropleth\":[{\"type\":\"choropleth\",\"colorbar\":{\"outlinewidth\":0,\"ticks\":\"\"}}],\"histogram2d\":[{\"type\":\"histogram2d\",\"colorbar\":{\"outlinewidth\":0,\"ticks\":\"\"},\"colorscale\":[[0.0,\"#0d0887\"],[0.1111111111111111,\"#46039f\"],[0.2222222222222222,\"#7201a8\"],[0.3333333333333333,\"#9c179e\"],[0.4444444444444444,\"#bd3786\"],[0.5555555555555556,\"#d8576b\"],[0.6666666666666666,\"#ed7953\"],[0.7777777777777778,\"#fb9f3a\"],[0.8888888888888888,\"#fdca26\"],[1.0,\"#f0f921\"]]}],\"heatmap\":[{\"type\":\"heatmap\",\"colorbar\":{\"outlinewidth\":0,\"ticks\":\"\"},\"colorscale\":[[0.0,\"#0d0887\"],[0.1111111111111111,\"#46039f\"],[0.2222222222222222,\"#7201a8\"],[0.3333333333333333,\"#9c179e\"],[0.4444444444444444,\"#bd3786\"],[0.5555555555555556,\"#d8576b\"],[0.6666666666666666,\"#ed7953\"],[0.7777777777777778,\"#fb9f3a\"],[0.8888888888888888,\"#fdca26\"],[1.0,\"#f0f921\"]]}],\"heatmapgl\":[{\"type\":\"heatmapgl\",\"colorbar\":{\"outlinewidth\":0,\"ticks\":\"\"},\"colorscale\":[[0.0,\"#0d0887\"],[0.1111111111111111,\"#46039f\"],[0.2222222222222222,\"#7201a8\"],[0.3333333333333333,\"#9c179e\"],[0.4444444444444444,\"#bd3786\"],[0.5555555555555556,\"#d8576b\"],[0.6666666666666666,\"#ed7953\"],[0.7777777777777778,\"#fb9f3a\"],[0.8888888888888888,\"#fdca26\"],[1.0,\"#f0f921\"]]}],\"contourcarpet\":[{\"type\":\"contourcarpet\",\"colorbar\":{\"outlinewidth\":0,\"ticks\":\"\"}}],\"contour\":[{\"type\":\"contour\",\"colorbar\":{\"outlinewidth\":0,\"ticks\":\"\"},\"colorscale\":[[0.0,\"#0d0887\"],[0.1111111111111111,\"#46039f\"],[0.2222222222222222,\"#7201a8\"],[0.3333333333333333,\"#9c179e\"],[0.4444444444444444,\"#bd3786\"],[0.5555555555555556,\"#d8576b\"],[0.6666666666666666,\"#ed7953\"],[0.7777777777777778,\"#fb9f3a\"],[0.8888888888888888,\"#fdca26\"],[1.0,\"#f0f921\"]]}],\"surface\":[{\"type\":\"surface\",\"colorbar\":{\"outlinewidth\":0,\"ticks\":\"\"},\"colorscale\":[[0.0,\"#0d0887\"],[0.1111111111111111,\"#46039f\"],[0.2222222222222222,\"#7201a8\"],[0.3333333333333333,\"#9c179e\"],[0.4444444444444444,\"#bd3786\"],[0.5555555555555556,\"#d8576b\"],[0.6666666666666666,\"#ed7953\"],[0.7777777777777778,\"#fb9f3a\"],[0.8888888888888888,\"#fdca26\"],[1.0,\"#f0f921\"]]}],\"mesh3d\":[{\"type\":\"mesh3d\",\"colorbar\":{\"outlinewidth\":0,\"ticks\":\"\"}}],\"scatter\":[{\"fillpattern\":{\"fillmode\":\"overlay\",\"size\":10,\"solidity\":0.2},\"type\":\"scatter\"}],\"parcoords\":[{\"type\":\"parcoords\",\"line\":{\"colorbar\":{\"outlinewidth\":0,\"ticks\":\"\"}}}],\"scatterpolargl\":[{\"type\":\"scatterpolargl\",\"marker\":{\"colorbar\":{\"outlinewidth\":0,\"ticks\":\"\"}}}],\"bar\":[{\"error_x\":{\"color\":\"#2a3f5f\"},\"error_y\":{\"color\":\"#2a3f5f\"},\"marker\":{\"line\":{\"color\":\"white\",\"width\":0.5},\"pattern\":{\"fillmode\":\"overlay\",\"size\":10,\"solidity\":0.2}},\"type\":\"bar\"}],\"scattergeo\":[{\"type\":\"scattergeo\",\"marker\":{\"colorbar\":{\"outlinewidth\":0,\"ticks\":\"\"}}}],\"scatterpolar\":[{\"type\":\"scatterpolar\",\"marker\":{\"colorbar\":{\"outlinewidth\":0,\"ticks\":\"\"}}}],\"histogram\":[{\"marker\":{\"pattern\":{\"fillmode\":\"overlay\",\"size\":10,\"solidity\":0.2}},\"type\":\"histogram\"}],\"scattergl\":[{\"type\":\"scattergl\",\"marker\":{\"colorbar\":{\"outlinewidth\":0,\"ticks\":\"\"}}}],\"scatter3d\":[{\"type\":\"scatter3d\",\"line\":{\"colorbar\":{\"outlinewidth\":0,\"ticks\":\"\"}},\"marker\":{\"colorbar\":{\"outlinewidth\":0,\"ticks\":\"\"}}}],\"scattermapbox\":[{\"type\":\"scattermapbox\",\"marker\":{\"colorbar\":{\"outlinewidth\":0,\"ticks\":\"\"}}}],\"scatterternary\":[{\"type\":\"scatterternary\",\"marker\":{\"colorbar\":{\"outlinewidth\":0,\"ticks\":\"\"}}}],\"scattercarpet\":[{\"type\":\"scattercarpet\",\"marker\":{\"colorbar\":{\"outlinewidth\":0,\"ticks\":\"\"}}}],\"carpet\":[{\"aaxis\":{\"endlinecolor\":\"#2a3f5f\",\"gridcolor\":\"#C8D4E3\",\"linecolor\":\"#C8D4E3\",\"minorgridcolor\":\"#C8D4E3\",\"startlinecolor\":\"#2a3f5f\"},\"baxis\":{\"endlinecolor\":\"#2a3f5f\",\"gridcolor\":\"#C8D4E3\",\"linecolor\":\"#C8D4E3\",\"minorgridcolor\":\"#C8D4E3\",\"startlinecolor\":\"#2a3f5f\"},\"type\":\"carpet\"}],\"table\":[{\"cells\":{\"fill\":{\"color\":\"#EBF0F8\"},\"line\":{\"color\":\"white\"}},\"header\":{\"fill\":{\"color\":\"#C8D4E3\"},\"line\":{\"color\":\"white\"}},\"type\":\"table\"}],\"barpolar\":[{\"marker\":{\"line\":{\"color\":\"white\",\"width\":0.5},\"pattern\":{\"fillmode\":\"overlay\",\"size\":10,\"solidity\":0.2}},\"type\":\"barpolar\"}],\"pie\":[{\"automargin\":true,\"type\":\"pie\"}]},\"layout\":{\"autotypenumbers\":\"strict\",\"colorway\":[\"#636efa\",\"#EF553B\",\"#00cc96\",\"#ab63fa\",\"#FFA15A\",\"#19d3f3\",\"#FF6692\",\"#B6E880\",\"#FF97FF\",\"#FECB52\"],\"font\":{\"color\":\"#2a3f5f\"},\"hovermode\":\"closest\",\"hoverlabel\":{\"align\":\"left\"},\"paper_bgcolor\":\"white\",\"plot_bgcolor\":\"white\",\"polar\":{\"bgcolor\":\"white\",\"angularaxis\":{\"gridcolor\":\"#EBF0F8\",\"linecolor\":\"#EBF0F8\",\"ticks\":\"\"},\"radialaxis\":{\"gridcolor\":\"#EBF0F8\",\"linecolor\":\"#EBF0F8\",\"ticks\":\"\"}},\"ternary\":{\"bgcolor\":\"white\",\"aaxis\":{\"gridcolor\":\"#DFE8F3\",\"linecolor\":\"#A2B1C6\",\"ticks\":\"\"},\"baxis\":{\"gridcolor\":\"#DFE8F3\",\"linecolor\":\"#A2B1C6\",\"ticks\":\"\"},\"caxis\":{\"gridcolor\":\"#DFE8F3\",\"linecolor\":\"#A2B1C6\",\"ticks\":\"\"}},\"coloraxis\":{\"colorbar\":{\"outlinewidth\":0,\"ticks\":\"\"}},\"colorscale\":{\"sequential\":[[0.0,\"#0d0887\"],[0.1111111111111111,\"#46039f\"],[0.2222222222222222,\"#7201a8\"],[0.3333333333333333,\"#9c179e\"],[0.4444444444444444,\"#bd3786\"],[0.5555555555555556,\"#d8576b\"],[0.6666666666666666,\"#ed7953\"],[0.7777777777777778,\"#fb9f3a\"],[0.8888888888888888,\"#fdca26\"],[1.0,\"#f0f921\"]],\"sequentialminus\":[[0.0,\"#0d0887\"],[0.1111111111111111,\"#46039f\"],[0.2222222222222222,\"#7201a8\"],[0.3333333333333333,\"#9c179e\"],[0.4444444444444444,\"#bd3786\"],[0.5555555555555556,\"#d8576b\"],[0.6666666666666666,\"#ed7953\"],[0.7777777777777778,\"#fb9f3a\"],[0.8888888888888888,\"#fdca26\"],[1.0,\"#f0f921\"]],\"diverging\":[[0,\"#8e0152\"],[0.1,\"#c51b7d\"],[0.2,\"#de77ae\"],[0.3,\"#f1b6da\"],[0.4,\"#fde0ef\"],[0.5,\"#f7f7f7\"],[0.6,\"#e6f5d0\"],[0.7,\"#b8e186\"],[0.8,\"#7fbc41\"],[0.9,\"#4d9221\"],[1,\"#276419\"]]},\"xaxis\":{\"gridcolor\":\"#EBF0F8\",\"linecolor\":\"#EBF0F8\",\"ticks\":\"\",\"title\":{\"standoff\":15},\"zerolinecolor\":\"#EBF0F8\",\"automargin\":true,\"zerolinewidth\":2},\"yaxis\":{\"gridcolor\":\"#EBF0F8\",\"linecolor\":\"#EBF0F8\",\"ticks\":\"\",\"title\":{\"standoff\":15},\"zerolinecolor\":\"#EBF0F8\",\"automargin\":true,\"zerolinewidth\":2},\"scene\":{\"xaxis\":{\"backgroundcolor\":\"white\",\"gridcolor\":\"#DFE8F3\",\"linecolor\":\"#EBF0F8\",\"showbackground\":true,\"ticks\":\"\",\"zerolinecolor\":\"#EBF0F8\",\"gridwidth\":2},\"yaxis\":{\"backgroundcolor\":\"white\",\"gridcolor\":\"#DFE8F3\",\"linecolor\":\"#EBF0F8\",\"showbackground\":true,\"ticks\":\"\",\"zerolinecolor\":\"#EBF0F8\",\"gridwidth\":2},\"zaxis\":{\"backgroundcolor\":\"white\",\"gridcolor\":\"#DFE8F3\",\"linecolor\":\"#EBF0F8\",\"showbackground\":true,\"ticks\":\"\",\"zerolinecolor\":\"#EBF0F8\",\"gridwidth\":2}},\"shapedefaults\":{\"line\":{\"color\":\"#2a3f5f\"}},\"annotationdefaults\":{\"arrowcolor\":\"#2a3f5f\",\"arrowhead\":0,\"arrowwidth\":1},\"geo\":{\"bgcolor\":\"white\",\"landcolor\":\"white\",\"subunitcolor\":\"#C8D4E3\",\"showland\":true,\"showlakes\":true,\"lakecolor\":\"white\"},\"title\":{\"x\":0.05},\"mapbox\":{\"style\":\"light\"}}},\"xaxis\":{\"title\":{\"text\":\"Edep\"},\"showline\":true,\"ticks\":\"outside\",\"mirror\":true,\"linecolor\":\"black\",\"showgrid\":true,\"gridcolor\":\"grey\",\"gridwidth\":0.25},\"yaxis\":{\"showline\":true,\"ticks\":\"outside\",\"mirror\":true,\"linecolor\":\"black\",\"showgrid\":true,\"gridcolor\":\"grey\",\"gridwidth\":0.25,\"zeroline\":true,\"zerolinecolor\":\"black\",\"zerolinewidth\":0.25},\"legend\":{\"orientation\":\"h\",\"yanchor\":\"bottom\",\"y\":1.02,\"xanchor\":\"right\",\"x\":1},\"title\":{\"text\":\"XP2020 PMTs. Bi214\"},\"bargap\":0.0,\"barmode\":\"overlay\",\"height\":500,\"width\":950,\"updatemenus\":[{\"buttons\":[{\"args\":[{\"yaxis.type\":\"linear\"}],\"label\":\"Linear scale\",\"method\":\"relayout\"},{\"args\":[{\"yaxis.type\":\"log\"}],\"label\":\"Log scale\",\"method\":\"relayout\"}],\"direction\":\"left\",\"showactive\":true,\"type\":\"buttons\",\"x\":0.25,\"xanchor\":\"left\",\"y\":1.22,\"yanchor\":\"top\"},{\"buttons\":[{\"args\":[{\"visible\":[true,false]}],\"label\":\"Bar\",\"method\":\"update\"},{\"args\":[{\"visible\":[false,true]}],\"label\":\"Step\",\"method\":\"update\"}],\"direction\":\"left\",\"showactive\":true,\"type\":\"buttons\",\"x\":0.8,\"xanchor\":\"left\",\"y\":1.22,\"yanchor\":\"top\"}]},                        {\"responsive\": true}                    ).then(function(){\n",
       "                            \n",
       "var gd = document.getElementById('7401a72c-f57e-4f6d-b633-f2b8aeb69f90');\n",
       "var x = new MutationObserver(function (mutations, observer) {{\n",
       "        var display = window.getComputedStyle(gd).display;\n",
       "        if (!display || display === 'none') {{\n",
       "            console.log([gd, 'removed!']);\n",
       "            Plotly.purge(gd);\n",
       "            observer.disconnect();\n",
       "        }}\n",
       "}});\n",
       "\n",
       "// Listen for the removal of the full notebook cells\n",
       "var notebookContainer = gd.closest('#notebook-container');\n",
       "if (notebookContainer) {{\n",
       "    x.observe(notebookContainer, {childList: true});\n",
       "}}\n",
       "\n",
       "// Listen for the clearing of the current output cell\n",
       "var outputEl = gd.closest('.output');\n",
       "if (outputEl) {{\n",
       "    x.observe(outputEl, {childList: true});\n",
       "}}\n",
       "\n",
       "                        })                };                });            </script>        </div>"
      ]
     },
     "metadata": {},
     "output_type": "display_data"
    }
   ],
   "source": [
    "plot_distr([counts_Bi, counts_Po], [bins1, bins2], sources, colors, title=\"XP2020 PMTs. Bi214\", xtitle=\"Edep\")"
   ]
  },
  {
   "cell_type": "code",
   "execution_count": null,
   "id": "c3e9c78d-1ab3-4acd-b3b9-be0721835245",
   "metadata": {},
   "outputs": [],
   "source": []
  }
 ],
 "metadata": {
  "kernelspec": {
   "display_name": "Python 3 (ipykernel)",
   "language": "python",
   "name": "python3"
  },
  "language_info": {
   "codemirror_mode": {
    "name": "ipython",
    "version": 3
   },
   "file_extension": ".py",
   "mimetype": "text/x-python",
   "name": "python",
   "nbconvert_exporter": "python",
   "pygments_lexer": "ipython3",
   "version": "3.10.6"
  }
 },
 "nbformat": 4,
 "nbformat_minor": 5
}
