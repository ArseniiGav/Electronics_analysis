{
 "cells": [
  {
   "cell_type": "code",
   "execution_count": null,
   "id": "c5d35ffe-be5b-42fe-b635-db3e35bb4e09",
   "metadata": {},
   "outputs": [],
   "source": [
    "import uproot\n",
    "import json\n",
    "import numpy as np\n",
    "from vis_functions import *\n",
    "from rate_estim import *\n",
    "from tqdm import tqdm\n",
    "\n",
    "notebook_type = \"rates\"\n",
    "params_file = open(\"/home/juno/arsgav/params.json\")\n",
    "PARAMS = json.load(params_file)\n",
    "PARAMS['type'] = notebook_type\n",
    "\n",
    "neptune_run = False\n",
    "if neptune_run:\n",
    "    run = neptune.init_run(\n",
    "        project=\"legnaro/LegnaroSetup\",\n",
    "        api_token=PARAMS['api_token'],\n",
    "        tags=[\n",
    "            PARAMS['path'],\n",
    "            PARAMS['run_numbers'],\n",
    "            PARAMS['source_names'],\n",
    "            PARAMS['output_file'],\n",
    "            notebook_type,\n",
    "        ],\n",
    "        name=\"LNL\",\n",
    "    )\n",
    "    \n",
    "    del PARAMS['api_token']    \n",
    "    run['PARAMS'] = PARAMS"
   ]
  },
  {
   "cell_type": "code",
   "execution_count": null,
   "id": "fbc5db16-a12b-45d1-9af8-bffdb042bf36",
   "metadata": {},
   "outputs": [],
   "source": [
    "runs_list = [\"run9 - Bkg, 10', n_th 5\",\n",
    "             \"run10 - Co60, 10', n_th 5\",\n",
    "             \"run11 - Co60, 10', n_th 5\"]"
   ]
  },
  {
   "cell_type": "code",
   "execution_count": null,
   "id": "140a3c45-ed61-454b-b337-4beb0fcc97d7",
   "metadata": {},
   "outputs": [],
   "source": [
    "run_numbers = PARAMS['run_numbers'].split(', ')\n",
    "path = PARAMS['path']\n",
    "output_file = PARAMS['output_file']\n",
    "graph_height = int(PARAMS['graph_height'])\n",
    "graph_width = int(PARAMS['graph_width'])\n",
    "left_shift = int(PARAMS['left_shift'])"
   ]
  },
  {
   "cell_type": "code",
   "execution_count": null,
   "id": "5f4cd650-7845-401a-ac39-8b194d971801",
   "metadata": {},
   "outputs": [],
   "source": [
    "rates_array = []\n",
    "fit_params_array = []\n",
    "distrs_array = []\n",
    "for channel_number in tqdm(range(48)):\n",
    "    try:\n",
    "        rate_estim_outputs = np.array(\n",
    "            [rate_estim(path, run_number, output_file, channel_number, Nmeds=10, left_shift=left_shift) for run_number in run_numbers],\n",
    "            dtype=object\n",
    "        )\n",
    "\n",
    "        rates_array.append(rate_estim_outputs[:, 0])\n",
    "        fit_params_array.append(rate_estim_outputs[:, 1])\n",
    "        distrs_array.append(rate_estim_outputs[:, 2])\n",
    "    except:\n",
    "        pass"
   ]
  },
  {
   "cell_type": "markdown",
   "id": "49292441-1604-4792-9606-689739176afe",
   "metadata": {},
   "source": [
    "## Rates visualization: "
   ]
  },
  {
   "cell_type": "code",
   "execution_count": null,
   "id": "8dd53568-6ad7-4360-85f3-8ff67a0213dc",
   "metadata": {},
   "outputs": [],
   "source": [
    "if neptune_run:\n",
    "    rates_fit_plots(run_numbers, runs_list, distrs_array, fit_params_array, rates_array,\n",
    "                    Nbins=50, line_width=0.5,  height=graph_height, width=graph_width,\n",
    "                    neptune_run=neptune_run, run=run,\n",
    "                    run_plot_name=f\"Rate by channel for {PARAMS['run_numbers']} runs\")\n",
    "else:\n",
    "    rates_fit_plots(run_numbers, runs_list, distrs_array, fit_params_array, rates_array,\n",
    "                    Nbins=50, line_width=0.5, height=graph_height, width=graph_width,)"
   ]
  },
  {
   "cell_type": "code",
   "execution_count": null,
   "id": "ca604bfc-c6ff-4fc1-b3c6-1734a5e847cb",
   "metadata": {},
   "outputs": [],
   "source": [
    "if neptune_run:\n",
    "    run.stop()"
   ]
  },
  {
   "cell_type": "code",
   "execution_count": null,
   "id": "6f684ba4-755d-4da4-8f49-818bcd76ae4d",
   "metadata": {},
   "outputs": [],
   "source": []
  }
 ],
 "metadata": {
  "kernelspec": {
   "display_name": "Python 3 (ipykernel)",
   "language": "python",
   "name": "python3"
  },
  "language_info": {
   "codemirror_mode": {
    "name": "ipython",
    "version": 3
   },
   "file_extension": ".py",
   "mimetype": "text/x-python",
   "name": "python",
   "nbconvert_exporter": "python",
   "pygments_lexer": "ipython3",
   "version": "3.10.6"
  }
 },
 "nbformat": 4,
 "nbformat_minor": 5
}
