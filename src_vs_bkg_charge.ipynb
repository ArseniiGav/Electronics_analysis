{
 "cells": [
  {
   "cell_type": "code",
   "execution_count": null,
   "metadata": {},
   "outputs": [],
   "source": [
    "import uproot\n",
    "import json\n",
    "import numpy as np\n",
    "import pandas as pd\n",
    "from vis_functions import *\n",
    "from timestamp_calc import *\n",
    "from collect_data import *\n",
    "\n",
    "notebook_type = \"src_vs_bkg_charge\"\n",
    "params_file = open(\"/home/juno/arsgav/params.json\")\n",
    "PARAMS = json.load(params_file)\n",
    "PARAMS['type'] = notebook_type\n",
    "\n",
    "neptune_run = False\n",
    "if neptune_run:\n",
    "    run = neptune.init_run(\n",
    "        project=\"legnaro/LegnaroSetup\",\n",
    "        api_token=PARAMS['api_token'],\n",
    "        tags=[\n",
    "            PARAMS['path'],\n",
    "            PARAMS['run_numbers'],\n",
    "            PARAMS['source_names'],\n",
    "            PARAMS['output_file'],\n",
    "            notebook_type,\n",
    "        ],\n",
    "        name=\"LNL\",\n",
    "        # with_id=\"LNL-\"\n",
    "    )\n",
    "\n",
    "    del PARAMS['api_token']\n",
    "    run['PARAMS'] = PARAMS"
   ]
  },
  {
   "cell_type": "code",
   "execution_count": null,
   "metadata": {},
   "outputs": [],
   "source": [
    "path = PARAMS['path']\n",
    "output_file = PARAMS['output_file']\n",
    "run_numbers = PARAMS['run_numbers'].split(', ')\n",
    "source_names = PARAMS['source_names'].split(', ')\n",
    "src_bkg_run_numbers = PARAMS['src_bkg_run_numbers'].split(', ')\n",
    "src_bkg_names = PARAMS['src_bkg_names'].split(', ')\n",
    "graph_height = int(PARAMS['graph_height'])\n",
    "graph_width = int(PARAMS['graph_width'])\n",
    "left_shift = int(PARAMS['left_shift'])"
   ]
  },
  {
   "cell_type": "code",
   "execution_count": null,
   "metadata": {},
   "outputs": [],
   "source": [
    "paths = [f'{path}run{i}/tier1/{output_file}' for i in run_numbers]\n",
    "print(\"Paths: \")\n",
    "[print(\"  \", el) for el in paths]\n",
    "\n",
    "total_charges = join_by_run(paths, ['total_charge'])\n",
    "if neptune_run:\n",
    "    plot_distrs_one_param(total_charges, 'total_charge', source_names, \"Total charge\",\n",
    "                          bkg_subtract=False, Nbins=np.linspace(0, 1e-4, 500), bar_step_x_shift=0.475,\n",
    "                          range_x=[0, 1e-4], line_width=0.0, opacity=0.7, return_values=False,\n",
    "                          neptune_run=neptune_run, run=run, run_plot_name=f\"Total charges for {PARAMS['run_numbers']} runs\")\n",
    "else:\n",
    "    plot_distrs_one_param(total_charges, 'total_charge', source_names, \"Total charge\",\n",
    "                          bkg_subtract=False, Nbins=np.linspace(0, 1e-4, 500), bar_step_x_shift=0.475,\n",
    "                          range_x=[0, 1e-4], line_width=0.0, opacity=0.7, return_values=False,)"
   ]
  },
  {
   "cell_type": "code",
   "execution_count": null,
   "metadata": {},
   "outputs": [],
   "source": [
    "for i in run_numbers:\n",
    "    print(f\"-_____________________run number {i}_____________________\")\n",
    "    timestamp_list = timestamp_calc(path, run_number=i, dir_name=\"tier1\", left_shift=left_shift)\n",
    "    print(timestamp_list)\n",
    "    print(f\"**************Number of channels: {len(timestamp_list)}\")\n",
    "    print(\"\\n \\n\")"
   ]
  },
  {
   "cell_type": "code",
   "execution_count": null,
   "metadata": {},
   "outputs": [],
   "source": [
    "paths = [f'{path}run{i}/tier1/{output_file}' for i in src_bkg_run_numbers]\n",
    "print(\"Paths: \")\n",
    "[print(\"  \", el) for el in paths]\n",
    "\n",
    "total_charges = join_by_run(paths, ['total_charge'])\n",
    "colors = ['royalblue', 'darkred']\n",
    "\n",
    "bkg_time = np.median(timestamp_calc(path, src_bkg_run_numbers[0], 'tier1', left_shift=left_shift))\n",
    "cs_time = np.median(timestamp_calc(path, src_bkg_run_numbers[1], 'tier1', left_shift=left_shift))\n",
    "\n",
    "scale_factor = cs_time / bkg_time\n",
    "\n",
    "if neptune_run:\n",
    "    bins, srs_values, bkg_values = plot_distrs_one_param(total_charges, 'total_charge', src_bkg_names, \"Total charge\",\n",
    "                                  colors_flag=True, bkg_subtract=False, Nbins=np.linspace(0, 1e-4, 500),\n",
    "                                  range_x=[0, 1e-4], line_width=0.0, opacity=0.7, return_values=True, bar_step_x_shift=0.6,\n",
    "                                  bkg_n=0, scale_factor=scale_factor, left_shift=left_shift, colors=colors,\n",
    "                                  neptune_run=neptune_run, run=run, run_plot_name=f\"Total charges for {PARAMS['src_bkg_names']}.\")\n",
    "\n",
    "    \n",
    "    plot_distrs_one_param(total_charges, 'total_charge', src_bkg_names, \"Total charge\", colors_flag=True,\n",
    "                              bkg_subtract=True, Nbins=np.linspace(0, 1e-4, 500), bar_step_x_shift=0.6,\n",
    "                              range_x=[0, 1e-4], line_width=0.0, opacity=0.7, return_values=False,\n",
    "                              bkg_n=0, scale_factor=scale_factor, left_shift=left_shift, colors=colors,\n",
    "                              neptune_run=neptune_run, run=run, run_plot_name=f\"Total charge for {src_bkg_names[1]}. Background subtracted.\")\n",
    "\n",
    "    \n",
    "else:\n",
    "    bins, srs_values, bkg_values = plot_distrs_one_param(total_charges, 'total_charge', src_bkg_names, \"Total charge\",\n",
    "                                  colors_flag=True, bkg_subtract=False, Nbins=np.linspace(0, 1e-4, 500), bar_step_x_shift=0.6,\n",
    "                                  range_x=[0, 1e-4], line_width=0.0, opacity=0.7, return_values=True,\n",
    "                                  bkg_n=0, scale_factor=scale_factor, left_shift=left_shift, colors=colors)\n",
    "    \n",
    "    plot_distrs_one_param(total_charges, 'total_charge', src_bkg_names, \"Total charge\", colors_flag=True,\n",
    "                              bkg_subtract=True, Nbins=np.linspace(0, 1e-4, 500), bar_step_x_shift=0.6,\n",
    "                              range_x=[0, 1e-4], line_width=0.0, opacity=0.7, return_values=False,\n",
    "                              bkg_n=0, scale_factor=scale_factor, left_shift=left_shift, colors=colors)    "
   ]
  },
  {
   "cell_type": "code",
   "execution_count": null,
   "metadata": {},
   "outputs": [],
   "source": [
    "# df = pd.DataFrame([bins, srs_values, bkg_values]).T\n",
    "# df.columns = ['bins', 'srs_values', 'bkg_values']\n",
    "# df.to_csv('Co60.csv', index=False)\n",
    "# df"
   ]
  },
  {
   "cell_type": "code",
   "execution_count": null,
   "metadata": {},
   "outputs": [],
   "source": [
    "paths = [f'{path}run{i}/tier1/{output_file}' for i in src_bkg_run_numbers]\n",
    "print(\"Paths: \")\n",
    "[print(\"  \", el) for el in paths]\n",
    "\n",
    "charges = join_by_run(paths, ['charge'])\n",
    "\n",
    "bkg_time = timestamp_calc(path, src_bkg_run_numbers[0], 'tier1', left_shift=left_shift)\n",
    "cs_time = timestamp_calc(path, src_bkg_run_numbers[1], 'tier1', left_shift=left_shift)\n",
    "timestamps = [bkg_time, cs_time]\n",
    "\n",
    "if neptune_run:\n",
    "    plot_charges_by_channels_src_and_bkg(charges, timestamps, src_bkg_names, width=graph_width, height=graph_height,\n",
    "                                         Nbins=np.linspace(0, 5e-6, 50), bkg_subtract=False,\n",
    "                                         neptune_run=neptune_run, run=run,\n",
    "                                         run_plot_name=f\"Charge by channel for {PARAMS['src_bkg_names']}.\")\n",
    "\n",
    "    plot_charges_by_channels_src_and_bkg(charges, timestamps, src_bkg_names, width=graph_width, height=graph_height,\n",
    "                                     Nbins=np.linspace(0, 5e-6, 50), bkg_subtract=True,\n",
    "                                     neptune_run=neptune_run, run=run,\n",
    "                                     run_plot_name=f\"Charge by channel for {src_bkg_names[1]}. Background subtracted.\")\n",
    "else:\n",
    "    plot_charges_by_channels_src_and_bkg(charges, timestamps, src_bkg_names, width=graph_width, height=graph_height,\n",
    "                                 Nbins=np.linspace(0, 5e-6, 50), bkg_subtract=False)\n",
    "\n",
    "    plot_charges_by_channels_src_and_bkg(charges, timestamps, src_bkg_names, width=graph_width, height=graph_height,\n",
    "                                     Nbins=np.linspace(0, 5e-6, 50), bkg_subtract=True)"
   ]
  },
  {
   "cell_type": "code",
   "execution_count": null,
   "metadata": {},
   "outputs": [],
   "source": [
    "if neptune_run:\n",
    "    run.stop()"
   ]
  },
  {
   "cell_type": "code",
   "execution_count": null,
   "metadata": {},
   "outputs": [],
   "source": []
  }
 ],
 "metadata": {
  "kernelspec": {
   "display_name": "Python 3 (ipykernel)",
   "language": "python",
   "name": "python3"
  },
  "language_info": {
   "codemirror_mode": {
    "name": "ipython",
    "version": 3
   },
   "file_extension": ".py",
   "mimetype": "text/x-python",
   "name": "python",
   "nbconvert_exporter": "python",
   "pygments_lexer": "ipython3",
   "version": "3.10.6"
  }
 },
 "nbformat": 4,
 "nbformat_minor": 4
}
