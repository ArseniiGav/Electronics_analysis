{
 "cells": [
  {
   "cell_type": "code",
   "execution_count": null,
   "id": "08e1250e-6cbe-4762-a5e7-c13b796b102c",
   "metadata": {},
   "outputs": [],
   "source": [
    "import uproot\n",
    "import os\n",
    "import json\n",
    "import neptune.new as neptune\n",
    "from vis_functions import *\n",
    "from collect_data import *\n",
    "\n",
    "notebook_type = \"timestamps_by_channel\"\n",
    "params_file = open(\"/home/juno/arsgav/params.json\")\n",
    "PARAMS = json.load(params_file)\n",
    "PARAMS['type'] = notebook_type\n",
    "\n",
    "neptune_run = False\n",
    "if neptune_run:\n",
    "    run = neptune.init_run(\n",
    "        project=\"legnaro/LegnaroSetup\",\n",
    "        api_token=PARAMS['api_token'],\n",
    "        tags=[\n",
    "            PARAMS['path'],\n",
    "            PARAMS['run_number'],\n",
    "            PARAMS['source_name'],\n",
    "            PARAMS['output_file'],\n",
    "            notebook_type\n",
    "        ],\n",
    "        name=\"LNL\",\n",
    "    )\n",
    "    \n",
    "    del PARAMS['api_token']\n",
    "    run['PARAMS'] = PARAMS"
   ]
  },
  {
   "cell_type": "code",
   "execution_count": null,
   "id": "46201738-4600-4ab5-a28f-3805d6193177",
   "metadata": {},
   "outputs": [],
   "source": [
    "path = PARAMS[\"path\"]\n",
    "run_number = PARAMS[\"run_number\"]\n",
    "output_file = PARAMS[\"output_file\"]\n",
    "source_name = PARAMS[\"source_name\"]"
   ]
  },
  {
   "cell_type": "code",
   "execution_count": null,
   "id": "dd3f10e8-e640-4ce8-957d-0c5afa16f31c",
   "metadata": {},
   "outputs": [],
   "source": [
    "file = uproot.open(f'{path}run{run_number}/tier1/{output_file}')\n",
    "timestamps = np.array(file['eventTree']['timestamp'].array())\n",
    "active_ch = np.array(file['eventTree']['active_ch'].array())"
   ]
  },
  {
   "cell_type": "code",
   "execution_count": null,
   "id": "db99639d-da6c-459d-b5ac-01712004ec36",
   "metadata": {},
   "outputs": [],
   "source": [
    "paths = [f'{path}run{i}/tier1/{output_file}' for i in [run_number]]\n",
    "print(\"Paths: \")\n",
    "[print(\"  \", el) for el in paths]\n",
    "\n",
    "active_chs = join_by_run(paths, ['active_ch'])\n",
    "source_names = [source_name]\n",
    "\n",
    "if neptune_run:\n",
    "    plot_distrs_one_param(active_chs, 'active_ch', source_names,\n",
    "                          save_plot=False, Nbins=48, xaxis_title=\"Active channels\",\n",
    "                          neptune_run=neptune_run, run=run, run_plot_name=\"Active channels\")\n",
    "else:\n",
    "    plot_distrs_one_param(active_chs, 'active_ch', source_names,\n",
    "                          save_plot=False, Nbins=48, xaxis_title=\"Active channels\",)"
   ]
  },
  {
   "cell_type": "code",
   "execution_count": null,
   "id": "9a343bf8-c876-4884-8784-cc0ba5aaa653",
   "metadata": {},
   "outputs": [],
   "source": [
    "paths = [f'{path}run{i}/tier1/{output_file}' for i in [run_number]]\n",
    "print(\"Paths: \")\n",
    "[print(\"  \", el) for el in paths]\n",
    "\n",
    "multiplicity = join_by_run(paths, ['multiplicity'])\n",
    "source_names = [source_name]\n",
    "\n",
    "if neptune_run:\n",
    "    plot_distrs_one_param(multiplicity, 'multiplicity', source_names,\n",
    "                          save_plot=False, Nbins=45, xaxis_title=\"Multiplicity\", \n",
    "                          neptune_run=neptune_run, run=run, run_plot_name=\"Multiplicity\")\n",
    "else:\n",
    "    plot_distrs_one_param(multiplicity, 'multiplicity', source_names,\n",
    "                          save_plot=False, Nbins=45, xaxis_title=\"Multiplicity\")"
   ]
  },
  {
   "cell_type": "code",
   "execution_count": null,
   "id": "42cd984d-e9e1-4a0c-bfcf-23ba380bcdc1",
   "metadata": {},
   "outputs": [],
   "source": [
    "if neptune_run:\n",
    "    plot_timestamps(timestamps, width=1600, height=1800, left_shift=20000,\n",
    "                vertical_spacing=0.05, horizontal_spacing=0.05, evt_step=1000,\n",
    "                neptune_run=neptune_run, run=run, run_plot_name=\"Timestamps\")\n",
    "else:\n",
    "    plot_timestamps(timestamps, width=1200, height=1600, left_shift=20000,\n",
    "                vertical_spacing=0.05, horizontal_spacing=0.05, evt_step=1000,)"
   ]
  },
  {
   "cell_type": "code",
   "execution_count": null,
   "id": "cf228660-2e82-4641-b765-20cd69cfa824",
   "metadata": {},
   "outputs": [],
   "source": [
    "if neptune_run:\n",
    "    run.stop()"
   ]
  },
  {
   "cell_type": "code",
   "execution_count": null,
   "id": "2aa72c1d-5aff-4d53-a4ce-a8f7942b2aa6",
   "metadata": {},
   "outputs": [],
   "source": []
  }
 ],
 "metadata": {
  "kernelspec": {
   "display_name": "Python 3 (ipykernel)",
   "language": "python",
   "name": "python3"
  },
  "language_info": {
   "codemirror_mode": {
    "name": "ipython",
    "version": 3
   },
   "file_extension": ".py",
   "mimetype": "text/x-python",
   "name": "python",
   "nbconvert_exporter": "python",
   "pygments_lexer": "ipython3",
   "version": "3.10.6"
  }
 },
 "nbformat": 4,
 "nbformat_minor": 5
}
